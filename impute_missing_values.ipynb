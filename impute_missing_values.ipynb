{
 "cells": [
  {
   "cell_type": "markdown",
   "id": "91133b85",
   "metadata": {},
   "source": [
    "## **7PAM2015-0509-2024 -- Research Methods in Data Science**\n",
    "### Group Kaggle Challenge on Spaceship Titanic -- Assignment-3\n",
    "##### Spaceship Titanic Challenge link can be found [here](https://www.kaggle.com/competitions/spaceship-titanic/overview).\n",
    "Columns description in the dataset.\n",
    "\n",
    "    PassengerId - A unique Id for each passenger. Each Id takes the form gggg_pp where gggg indicates a group the passenger is travelling with and pp is their number within the group. People in a group are often family members, but not always.\n",
    "    HomePlanet - The planet the passenger departed from, typically their planet of permanent residence.\n",
    "    CryoSleep - Indicates whether the passenger elected to be put into suspended animation for the duration of the voyage. Passengers in cryosleep are confined to their cabins.\n",
    "    Cabin - The cabin number where the passenger is staying. Takes the form deck/num/side, where side can be either P for Port or S for Starboard.\n",
    "    Destination - The planet the passenger will be debarking to.\n",
    "    Age - The age of the passenger.\n",
    "    VIP - Whether the passenger has paid for special VIP service during the voyage.\n",
    "    RoomService, FoodCourt, ShoppingMall, Spa, VRDeck - Amount the passenger has billed at each of the Spaceship Titanic's many luxury amenities.\n",
    "    Name - The first and last names of the passenger.\n",
    "    Transported - Whether the passenger was transported to another dimension. This is the target, the column you are trying to predict.\n",
    "---\n",
    "**Group-3**\n",
    "\n",
    "- **Mohit Agarwal                 (Student ID-22031257)**\n",
    "- **Jerome Paulraj                (Student ID-22074395)**\n",
    "- **Omkar Shashikant Sawant       (Student ID-22080770)**\n",
    "- **somy Nellikkunnel Thomas      (Student ID-22079522)**\n",
    "- **Chandra Shekar Losirlu        (Student ID-22081216)**\n",
    "- **Hari Bahadur Gharti Magar     (Student ID-22075765)**\n",
    "- **Yogesh Pandit                 (Student ID-22095146)**"
   ]
  },
  {
   "cell_type": "code",
   "execution_count": 1,
   "id": "2c38486f",
   "metadata": {},
   "outputs": [],
   "source": [
    "# libraries import\n",
    "import os\n",
    "import pandas as pd\n",
    "import numpy as np\n",
    "import matplotlib.pyplot as plt\n",
    "import seaborn as sns\n",
    "import missingno as msno\n",
    "import warnings\n",
    "warnings.filterwarnings(\"ignore\")"
   ]
  },
  {
   "cell_type": "code",
   "execution_count": 2,
   "id": "1b65eb30",
   "metadata": {},
   "outputs": [],
   "source": [
    "# setting style\n",
    "sns.set_style(\"darkgrid\")\n",
    "# setting context\n",
    "sns.set_context(\"paper\")\n",
    "# setting palette\n",
    "sns.set_palette(\"deep\", color_codes=True)"
   ]
  },
  {
   "cell_type": "code",
   "execution_count": 3,
   "id": "bf2dfb2d",
   "metadata": {},
   "outputs": [],
   "source": [
    "# note: change the paths\n",
    "# data path\n",
    "data_path = r\"D:\\MScDataScience\\9.Research_Methods\\Assignment\\Assignment3\\Spaceship_Titanic\\Data\"\n",
    "# image save path\n",
    "image_save_path = r\"D:\\MScDataScience\\9.Research_Methods\\Assignment\\Assignment3\\Spaceship_Titanic\\Images\""
   ]
  },
  {
   "cell_type": "markdown",
   "id": "c986a9b8",
   "metadata": {},
   "source": [
    "Reading Data"
   ]
  },
  {
   "cell_type": "code",
   "execution_count": 4,
   "id": "5c315dc1",
   "metadata": {},
   "outputs": [],
   "source": [
    "# reading the trian and test data\n",
    "train_data = pd.read_csv(os.path.join(data_path, \"train.csv\"))\n",
    "test_data = pd.read_csv(os.path.join(data_path, \"test.csv\"))"
   ]
  },
  {
   "cell_type": "markdown",
   "id": "6dfbf44b",
   "metadata": {},
   "source": [
    "### Functions"
   ]
  },
  {
   "cell_type": "markdown",
   "id": "d3e8d0ef",
   "metadata": {},
   "source": [
    "Function to Calculate the Missingess"
   ]
  },
  {
   "cell_type": "code",
   "execution_count": 5,
   "id": "3489c71c",
   "metadata": {},
   "outputs": [],
   "source": [
    "def missing_data(df, plot=False, title=\"Number of Missing Data\"):\n",
    "    \"\"\"\n",
    "    Generate a summary of missing values in the DataFrame and optionally plot them.\n",
    "\n",
    "    Computes the count and percentage of missing values for each column in the given\n",
    "    DataFrame. If requested, it also generates and saves a horizontal bar plot of the\n",
    "    missing value distribution.\n",
    "\n",
    "    Args:\n",
    "        df (pandas.DataFrame): Input DataFrame to analyze for missing values.\n",
    "        plot (bool): Whether to generate a bar plot of missing value counts. Default False.\n",
    "        title (str): Title for the plot if plotting is enabled. Default \"Number of Missing Data\".\n",
    "\n",
    "    Raises:\n",
    "        ValueError: If `df` is not a valid pandas DataFrame.\n",
    "\n",
    "    Note:\n",
    "        To save plots, ensure a global variable `image_save_path` exists and points to\n",
    "        a valid directory.\n",
    "    \"\"\"\n",
    "\n",
    "    # validate input type\n",
    "    if not isinstance(df, pd.DataFrame):\n",
    "        raise ValueError(\"Input must be a pandas DataFrame.\")\n",
    "\n",
    "    # combine missing value counts and percentages into a summary DataFrame\n",
    "    missing_df = pd.concat([df.isna().sum(),\n",
    "                            np.round(df.isna().mean()*100, 2)],  # type: ignore\n",
    "                           axis=1,\n",
    "                           # type: ignore\n",
    "                           keys=[\"MissingCount\", \"MissingPercentage\"])\n",
    "\n",
    "    if plot:\n",
    "        # create horizontal bar plot of missing counts\n",
    "        missing_df[\"MissingCount\"].plot(\n",
    "            kind=\"barh\",\n",
    "            figsize=(10, 6))\n",
    "\n",
    "        # format plot with bold title and grid\n",
    "        plt.title(title, fontsize=12, fontweight=\"bold\")\n",
    "        plt.xlabel(\"Missing Counts\", fontweight=\"bold\")\n",
    "        plt.ylabel(\"Columns\", fontweight=\"bold\")\n",
    "        plt.grid(axis='x', linestyle='--', alpha=0.7)\n",
    "        plt.tight_layout()\n",
    "\n",
    "        # save plot image if image_save_path exists in global scope\n",
    "        if \"image_save_path\" in globals():\n",
    "            plt.savefig(os.path.join(image_save_path, f\"{title}.png\"))\n",
    "\n",
    "        # display the plot\n",
    "        plt.show()\n",
    "\n",
    "    # print missing value summary table\n",
    "    print(missing_df)"
   ]
  },
  {
   "cell_type": "markdown",
   "id": "5aeeb678",
   "metadata": {},
   "source": [
    "Function to Visualise the Missingess"
   ]
  },
  {
   "cell_type": "code",
   "execution_count": null,
   "id": "ab156c30",
   "metadata": {},
   "outputs": [],
   "source": [
    "def missing_data_visualisation(df, title=\"Training\"):\n",
    "    \"\"\"\n",
    "    Visualize missing data patterns in the DataFrame using missingno.\n",
    "\n",
    "    Generates and saves three common missing data plots:\n",
    "    1. Matrix visualization showing locations and patterns of missing values.\n",
    "    2. Nullity correlation heatmap indicating correlation between missingness in columns.\n",
    "    3. Dendrogram clustering columns by similarity of missing data patterns.\n",
    "\n",
    "    Args:\n",
    "        df (pandas.DataFrame): DataFrame to analyze for missing data.\n",
    "        title (str): Title to use in plot titles and filenames. Default is \"Training\".\n",
    "\n",
    "    Raises:\n",
    "        FileNotFoundError: If global variable `image_save_path` is not set or \n",
    "        points to invalid directory.\n",
    "\n",
    "    Note:\n",
    "        Requires a global variable `image_save_path` where plots will be saved.\n",
    "        Ensure necessary imports: matplotlib.pyplot, os, missingno.\n",
    "    \"\"\"\n",
    "\n",
    "    # Check if image_save_path exists globally and is valid\n",
    "    if 'image_save_path' not in globals() or not os.path.isdir(image_save_path):\n",
    "        raise FileNotFoundError(\n",
    "            \"Global variable 'image_save_path' must be set to a valid directory path.\"\n",
    "        )\n",
    "\n",
    "    # Matrix plot: visualizes missingness as white lines on dark background\n",
    "    msno.matrix(df, figsize=(12, 8), fontsize=12)\n",
    "    plt.title(f\"Matrix Visualisation of Missing Data in {title} Set\",\n",
    "              fontsize=16, fontweight=\"bold\")\n",
    "    plt.xlabel(\"Columns (Features)\", fontsize=12, fontweight=\"bold\")\n",
    "    plt.ylabel(\"Rows (Samples)\", fontsize=12, fontweight=\"bold\")\n",
    "    plt.tight_layout()\n",
    "    plt.savefig(os.path.join(image_save_path,\n",
    "                             f\"Matrix Visualisation of Missing Data in {title} Set.png\"))\n",
    "    plt.show()\n",
    "\n",
    "    # Nullity heatmap: shows correlations in missingness between pairs of columns\n",
    "    msno.heatmap(df, figsize=(12, 8), fontsize=12)\n",
    "    plt.title(f\"Nullity Correlation Heatmap {title} Set\",\n",
    "              fontsize=16, fontweight=\"bold\")\n",
    "    plt.xlabel(\"Columns (Features)\", fontsize=12, fontweight=\"bold\")\n",
    "    plt.ylabel(\"Columns (Features)\", fontsize=12, fontweight=\"bold\")\n",
    "    plt.tight_layout()\n",
    "    plt.savefig(os.path.join(image_save_path,\n",
    "                             f\"Nullity Correlation Heatmap {title} Set.png\"))\n",
    "    plt.show()\n",
    "\n",
    "    # Dendrogram: hierarchical clustering of columns based on missingness pattern similarity\n",
    "    msno.dendrogram(df, figsize=(12, 8), fontsize=12)\n",
    "    plt.title(f\"Dendrogram of Nullity Clusters for {title} Set\",\n",
    "              fontsize=18, fontweight='bold')\n",
    "    plt.tight_layout()\n",
    "    plt.savefig(os.path.join(image_save_path,\n",
    "                             f\"Dendrogram of Nullity Clusters for {title} Set.png\"))\n",
    "    plt.show()"
   ]
  },
  {
   "cell_type": "markdown",
   "id": "ad22c0fb",
   "metadata": {},
   "source": [
    "### Basic Infomation on Datasets"
   ]
  },
  {
   "cell_type": "code",
   "execution_count": 7,
   "id": "00a2b668",
   "metadata": {},
   "outputs": [
    {
     "name": "stdout",
     "output_type": "stream",
     "text": [
      "[INFO] Train Data Shape: 8693 rows x 14 columns\n",
      "[INFO] Test Data Shape: 4277 rows x 13 columns\n"
     ]
    }
   ],
   "source": [
    "# looking at the shape of the datas\n",
    "print(\n",
    "    f\"[INFO] Train Data Shape: {train_data.shape[0]} rows x {train_data.shape[1]} columns\")\n",
    "print(\n",
    "    f\"[INFO] Test Data Shape: {test_data.shape[0]} rows x {test_data.shape[1]} columns\")"
   ]
  },
  {
   "cell_type": "markdown",
   "id": "4c452229",
   "metadata": {},
   "source": [
    "#### Train Dataset"
   ]
  },
  {
   "cell_type": "code",
   "execution_count": 8,
   "id": "97653962",
   "metadata": {},
   "outputs": [
    {
     "name": "stdout",
     "output_type": "stream",
     "text": [
      "<class 'pandas.core.frame.DataFrame'>\n",
      "RangeIndex: 8693 entries, 0 to 8692\n",
      "Data columns (total 14 columns):\n",
      " #   Column        Non-Null Count  Dtype  \n",
      "---  ------        --------------  -----  \n",
      " 0   PassengerId   8693 non-null   object \n",
      " 1   HomePlanet    8492 non-null   object \n",
      " 2   CryoSleep     8476 non-null   object \n",
      " 3   Cabin         8494 non-null   object \n",
      " 4   Destination   8511 non-null   object \n",
      " 5   Age           8514 non-null   float64\n",
      " 6   VIP           8490 non-null   object \n",
      " 7   RoomService   8512 non-null   float64\n",
      " 8   FoodCourt     8510 non-null   float64\n",
      " 9   ShoppingMall  8485 non-null   float64\n",
      " 10  Spa           8510 non-null   float64\n",
      " 11  VRDeck        8505 non-null   float64\n",
      " 12  Name          8493 non-null   object \n",
      " 13  Transported   8693 non-null   bool   \n",
      "dtypes: bool(1), float64(6), object(7)\n",
      "memory usage: 891.5+ KB\n"
     ]
    }
   ],
   "source": [
    "# column type information -- trian\n",
    "train_data.info()"
   ]
  },
  {
   "cell_type": "code",
   "execution_count": 9,
   "id": "bfbdf436",
   "metadata": {},
   "outputs": [
    {
     "data": {
      "application/vnd.microsoft.datawrangler.viewer.v0+json": {
       "columns": [
        {
         "name": "index",
         "rawType": "object",
         "type": "string"
        },
        {
         "name": "PassengerId",
         "rawType": "object",
         "type": "unknown"
        },
        {
         "name": "HomePlanet",
         "rawType": "object",
         "type": "unknown"
        },
        {
         "name": "CryoSleep",
         "rawType": "object",
         "type": "unknown"
        },
        {
         "name": "Cabin",
         "rawType": "object",
         "type": "unknown"
        },
        {
         "name": "Destination",
         "rawType": "object",
         "type": "unknown"
        },
        {
         "name": "Age",
         "rawType": "float64",
         "type": "float"
        },
        {
         "name": "VIP",
         "rawType": "object",
         "type": "unknown"
        },
        {
         "name": "RoomService",
         "rawType": "float64",
         "type": "float"
        },
        {
         "name": "FoodCourt",
         "rawType": "float64",
         "type": "float"
        },
        {
         "name": "ShoppingMall",
         "rawType": "float64",
         "type": "float"
        },
        {
         "name": "Spa",
         "rawType": "float64",
         "type": "float"
        },
        {
         "name": "VRDeck",
         "rawType": "float64",
         "type": "float"
        },
        {
         "name": "Name",
         "rawType": "object",
         "type": "unknown"
        },
        {
         "name": "Transported",
         "rawType": "object",
         "type": "unknown"
        }
       ],
       "ref": "3fc46a70-d1ef-4cb2-b43b-ec38bc727652",
       "rows": [
        [
         "count",
         "8693",
         "8492",
         "8476",
         "8494",
         "8511",
         "8514.0",
         "8490",
         "8512.0",
         "8510.0",
         "8485.0",
         "8510.0",
         "8505.0",
         "8493",
         "8693"
        ],
        [
         "unique",
         "8693",
         "3",
         "2",
         "6560",
         "3",
         null,
         "2",
         null,
         null,
         null,
         null,
         null,
         "8473",
         "2"
        ],
        [
         "top",
         "9280_02",
         "Earth",
         "False",
         "G/734/S",
         "TRAPPIST-1e",
         null,
         "False",
         null,
         null,
         null,
         null,
         null,
         "Anton Woody",
         "True"
        ],
        [
         "freq",
         "1",
         "4602",
         "5439",
         "8",
         "5915",
         null,
         "8291",
         null,
         null,
         null,
         null,
         null,
         "2",
         "4378"
        ],
        [
         "mean",
         null,
         null,
         null,
         null,
         null,
         "28.82793046746535",
         null,
         "224.687617481203",
         "458.07720329024676",
         "173.72916912197996",
         "311.1387779083431",
         "304.8547912992357",
         null,
         null
        ],
        [
         "std",
         null,
         null,
         null,
         null,
         null,
         "14.48902142390878",
         null,
         "666.7176629280652",
         "1611.4892403550716",
         "604.6964584708243",
         "1136.7055348344065",
         "1145.7171888056614",
         null,
         null
        ],
        [
         "min",
         null,
         null,
         null,
         null,
         null,
         "0.0",
         null,
         "0.0",
         "0.0",
         "0.0",
         "0.0",
         "0.0",
         null,
         null
        ],
        [
         "25%",
         null,
         null,
         null,
         null,
         null,
         "19.0",
         null,
         "0.0",
         "0.0",
         "0.0",
         "0.0",
         "0.0",
         null,
         null
        ],
        [
         "50%",
         null,
         null,
         null,
         null,
         null,
         "27.0",
         null,
         "0.0",
         "0.0",
         "0.0",
         "0.0",
         "0.0",
         null,
         null
        ],
        [
         "75%",
         null,
         null,
         null,
         null,
         null,
         "38.0",
         null,
         "47.0",
         "76.0",
         "27.0",
         "59.0",
         "46.0",
         null,
         null
        ],
        [
         "max",
         null,
         null,
         null,
         null,
         null,
         "79.0",
         null,
         "14327.0",
         "29813.0",
         "23492.0",
         "22408.0",
         "24133.0",
         null,
         null
        ]
       ],
       "shape": {
        "columns": 14,
        "rows": 11
       }
      },
      "text/html": [
       "<div>\n",
       "<style scoped>\n",
       "    .dataframe tbody tr th:only-of-type {\n",
       "        vertical-align: middle;\n",
       "    }\n",
       "\n",
       "    .dataframe tbody tr th {\n",
       "        vertical-align: top;\n",
       "    }\n",
       "\n",
       "    .dataframe thead th {\n",
       "        text-align: right;\n",
       "    }\n",
       "</style>\n",
       "<table border=\"1\" class=\"dataframe\">\n",
       "  <thead>\n",
       "    <tr style=\"text-align: right;\">\n",
       "      <th></th>\n",
       "      <th>PassengerId</th>\n",
       "      <th>HomePlanet</th>\n",
       "      <th>CryoSleep</th>\n",
       "      <th>Cabin</th>\n",
       "      <th>Destination</th>\n",
       "      <th>Age</th>\n",
       "      <th>VIP</th>\n",
       "      <th>RoomService</th>\n",
       "      <th>FoodCourt</th>\n",
       "      <th>ShoppingMall</th>\n",
       "      <th>Spa</th>\n",
       "      <th>VRDeck</th>\n",
       "      <th>Name</th>\n",
       "      <th>Transported</th>\n",
       "    </tr>\n",
       "  </thead>\n",
       "  <tbody>\n",
       "    <tr>\n",
       "      <th>count</th>\n",
       "      <td>8693</td>\n",
       "      <td>8492</td>\n",
       "      <td>8476</td>\n",
       "      <td>8494</td>\n",
       "      <td>8511</td>\n",
       "      <td>8514.000000</td>\n",
       "      <td>8490</td>\n",
       "      <td>8512.000000</td>\n",
       "      <td>8510.000000</td>\n",
       "      <td>8485.000000</td>\n",
       "      <td>8510.000000</td>\n",
       "      <td>8505.000000</td>\n",
       "      <td>8493</td>\n",
       "      <td>8693</td>\n",
       "    </tr>\n",
       "    <tr>\n",
       "      <th>unique</th>\n",
       "      <td>8693</td>\n",
       "      <td>3</td>\n",
       "      <td>2</td>\n",
       "      <td>6560</td>\n",
       "      <td>3</td>\n",
       "      <td>NaN</td>\n",
       "      <td>2</td>\n",
       "      <td>NaN</td>\n",
       "      <td>NaN</td>\n",
       "      <td>NaN</td>\n",
       "      <td>NaN</td>\n",
       "      <td>NaN</td>\n",
       "      <td>8473</td>\n",
       "      <td>2</td>\n",
       "    </tr>\n",
       "    <tr>\n",
       "      <th>top</th>\n",
       "      <td>9280_02</td>\n",
       "      <td>Earth</td>\n",
       "      <td>False</td>\n",
       "      <td>G/734/S</td>\n",
       "      <td>TRAPPIST-1e</td>\n",
       "      <td>NaN</td>\n",
       "      <td>False</td>\n",
       "      <td>NaN</td>\n",
       "      <td>NaN</td>\n",
       "      <td>NaN</td>\n",
       "      <td>NaN</td>\n",
       "      <td>NaN</td>\n",
       "      <td>Anton Woody</td>\n",
       "      <td>True</td>\n",
       "    </tr>\n",
       "    <tr>\n",
       "      <th>freq</th>\n",
       "      <td>1</td>\n",
       "      <td>4602</td>\n",
       "      <td>5439</td>\n",
       "      <td>8</td>\n",
       "      <td>5915</td>\n",
       "      <td>NaN</td>\n",
       "      <td>8291</td>\n",
       "      <td>NaN</td>\n",
       "      <td>NaN</td>\n",
       "      <td>NaN</td>\n",
       "      <td>NaN</td>\n",
       "      <td>NaN</td>\n",
       "      <td>2</td>\n",
       "      <td>4378</td>\n",
       "    </tr>\n",
       "    <tr>\n",
       "      <th>mean</th>\n",
       "      <td>NaN</td>\n",
       "      <td>NaN</td>\n",
       "      <td>NaN</td>\n",
       "      <td>NaN</td>\n",
       "      <td>NaN</td>\n",
       "      <td>28.827930</td>\n",
       "      <td>NaN</td>\n",
       "      <td>224.687617</td>\n",
       "      <td>458.077203</td>\n",
       "      <td>173.729169</td>\n",
       "      <td>311.138778</td>\n",
       "      <td>304.854791</td>\n",
       "      <td>NaN</td>\n",
       "      <td>NaN</td>\n",
       "    </tr>\n",
       "    <tr>\n",
       "      <th>std</th>\n",
       "      <td>NaN</td>\n",
       "      <td>NaN</td>\n",
       "      <td>NaN</td>\n",
       "      <td>NaN</td>\n",
       "      <td>NaN</td>\n",
       "      <td>14.489021</td>\n",
       "      <td>NaN</td>\n",
       "      <td>666.717663</td>\n",
       "      <td>1611.489240</td>\n",
       "      <td>604.696458</td>\n",
       "      <td>1136.705535</td>\n",
       "      <td>1145.717189</td>\n",
       "      <td>NaN</td>\n",
       "      <td>NaN</td>\n",
       "    </tr>\n",
       "    <tr>\n",
       "      <th>min</th>\n",
       "      <td>NaN</td>\n",
       "      <td>NaN</td>\n",
       "      <td>NaN</td>\n",
       "      <td>NaN</td>\n",
       "      <td>NaN</td>\n",
       "      <td>0.000000</td>\n",
       "      <td>NaN</td>\n",
       "      <td>0.000000</td>\n",
       "      <td>0.000000</td>\n",
       "      <td>0.000000</td>\n",
       "      <td>0.000000</td>\n",
       "      <td>0.000000</td>\n",
       "      <td>NaN</td>\n",
       "      <td>NaN</td>\n",
       "    </tr>\n",
       "    <tr>\n",
       "      <th>25%</th>\n",
       "      <td>NaN</td>\n",
       "      <td>NaN</td>\n",
       "      <td>NaN</td>\n",
       "      <td>NaN</td>\n",
       "      <td>NaN</td>\n",
       "      <td>19.000000</td>\n",
       "      <td>NaN</td>\n",
       "      <td>0.000000</td>\n",
       "      <td>0.000000</td>\n",
       "      <td>0.000000</td>\n",
       "      <td>0.000000</td>\n",
       "      <td>0.000000</td>\n",
       "      <td>NaN</td>\n",
       "      <td>NaN</td>\n",
       "    </tr>\n",
       "    <tr>\n",
       "      <th>50%</th>\n",
       "      <td>NaN</td>\n",
       "      <td>NaN</td>\n",
       "      <td>NaN</td>\n",
       "      <td>NaN</td>\n",
       "      <td>NaN</td>\n",
       "      <td>27.000000</td>\n",
       "      <td>NaN</td>\n",
       "      <td>0.000000</td>\n",
       "      <td>0.000000</td>\n",
       "      <td>0.000000</td>\n",
       "      <td>0.000000</td>\n",
       "      <td>0.000000</td>\n",
       "      <td>NaN</td>\n",
       "      <td>NaN</td>\n",
       "    </tr>\n",
       "    <tr>\n",
       "      <th>75%</th>\n",
       "      <td>NaN</td>\n",
       "      <td>NaN</td>\n",
       "      <td>NaN</td>\n",
       "      <td>NaN</td>\n",
       "      <td>NaN</td>\n",
       "      <td>38.000000</td>\n",
       "      <td>NaN</td>\n",
       "      <td>47.000000</td>\n",
       "      <td>76.000000</td>\n",
       "      <td>27.000000</td>\n",
       "      <td>59.000000</td>\n",
       "      <td>46.000000</td>\n",
       "      <td>NaN</td>\n",
       "      <td>NaN</td>\n",
       "    </tr>\n",
       "    <tr>\n",
       "      <th>max</th>\n",
       "      <td>NaN</td>\n",
       "      <td>NaN</td>\n",
       "      <td>NaN</td>\n",
       "      <td>NaN</td>\n",
       "      <td>NaN</td>\n",
       "      <td>79.000000</td>\n",
       "      <td>NaN</td>\n",
       "      <td>14327.000000</td>\n",
       "      <td>29813.000000</td>\n",
       "      <td>23492.000000</td>\n",
       "      <td>22408.000000</td>\n",
       "      <td>24133.000000</td>\n",
       "      <td>NaN</td>\n",
       "      <td>NaN</td>\n",
       "    </tr>\n",
       "  </tbody>\n",
       "</table>\n",
       "</div>"
      ],
      "text/plain": [
       "       PassengerId HomePlanet CryoSleep    Cabin  Destination          Age  \\\n",
       "count         8693       8492      8476     8494         8511  8514.000000   \n",
       "unique        8693          3         2     6560            3          NaN   \n",
       "top        9280_02      Earth     False  G/734/S  TRAPPIST-1e          NaN   \n",
       "freq             1       4602      5439        8         5915          NaN   \n",
       "mean           NaN        NaN       NaN      NaN          NaN    28.827930   \n",
       "std            NaN        NaN       NaN      NaN          NaN    14.489021   \n",
       "min            NaN        NaN       NaN      NaN          NaN     0.000000   \n",
       "25%            NaN        NaN       NaN      NaN          NaN    19.000000   \n",
       "50%            NaN        NaN       NaN      NaN          NaN    27.000000   \n",
       "75%            NaN        NaN       NaN      NaN          NaN    38.000000   \n",
       "max            NaN        NaN       NaN      NaN          NaN    79.000000   \n",
       "\n",
       "          VIP   RoomService     FoodCourt  ShoppingMall           Spa  \\\n",
       "count    8490   8512.000000   8510.000000   8485.000000   8510.000000   \n",
       "unique      2           NaN           NaN           NaN           NaN   \n",
       "top     False           NaN           NaN           NaN           NaN   \n",
       "freq     8291           NaN           NaN           NaN           NaN   \n",
       "mean      NaN    224.687617    458.077203    173.729169    311.138778   \n",
       "std       NaN    666.717663   1611.489240    604.696458   1136.705535   \n",
       "min       NaN      0.000000      0.000000      0.000000      0.000000   \n",
       "25%       NaN      0.000000      0.000000      0.000000      0.000000   \n",
       "50%       NaN      0.000000      0.000000      0.000000      0.000000   \n",
       "75%       NaN     47.000000     76.000000     27.000000     59.000000   \n",
       "max       NaN  14327.000000  29813.000000  23492.000000  22408.000000   \n",
       "\n",
       "              VRDeck         Name Transported  \n",
       "count    8505.000000         8493        8693  \n",
       "unique           NaN         8473           2  \n",
       "top              NaN  Anton Woody        True  \n",
       "freq             NaN            2        4378  \n",
       "mean      304.854791          NaN         NaN  \n",
       "std      1145.717189          NaN         NaN  \n",
       "min         0.000000          NaN         NaN  \n",
       "25%         0.000000          NaN         NaN  \n",
       "50%         0.000000          NaN         NaN  \n",
       "75%        46.000000          NaN         NaN  \n",
       "max     24133.000000          NaN         NaN  "
      ]
     },
     "execution_count": 9,
     "metadata": {},
     "output_type": "execute_result"
    }
   ],
   "source": [
    "# describing the train data for all the columns\n",
    "train_data.describe(include=\"all\")"
   ]
  },
  {
   "cell_type": "code",
   "execution_count": 10,
   "id": "65efe031",
   "metadata": {},
   "outputs": [
    {
     "data": {
      "application/vnd.microsoft.datawrangler.viewer.v0+json": {
       "columns": [
        {
         "name": "index",
         "rawType": "object",
         "type": "string"
        },
        {
         "name": "count",
         "rawType": "object",
         "type": "unknown"
        },
        {
         "name": "unique",
         "rawType": "object",
         "type": "unknown"
        },
        {
         "name": "top",
         "rawType": "object",
         "type": "unknown"
        },
        {
         "name": "freq",
         "rawType": "object",
         "type": "unknown"
        }
       ],
       "ref": "90ceec56-7703-43d9-bcca-af4961626a30",
       "rows": [
        [
         "PassengerId",
         "8693",
         "8693",
         "9280_02",
         "1"
        ],
        [
         "HomePlanet",
         "8492",
         "3",
         "Earth",
         "4602"
        ],
        [
         "CryoSleep",
         "8476",
         "2",
         "False",
         "5439"
        ],
        [
         "Cabin",
         "8494",
         "6560",
         "G/734/S",
         "8"
        ],
        [
         "Destination",
         "8511",
         "3",
         "TRAPPIST-1e",
         "5915"
        ],
        [
         "VIP",
         "8490",
         "2",
         "False",
         "8291"
        ],
        [
         "Name",
         "8493",
         "8473",
         "Anton Woody",
         "2"
        ]
       ],
       "shape": {
        "columns": 4,
        "rows": 7
       }
      },
      "text/html": [
       "<div>\n",
       "<style scoped>\n",
       "    .dataframe tbody tr th:only-of-type {\n",
       "        vertical-align: middle;\n",
       "    }\n",
       "\n",
       "    .dataframe tbody tr th {\n",
       "        vertical-align: top;\n",
       "    }\n",
       "\n",
       "    .dataframe thead th {\n",
       "        text-align: right;\n",
       "    }\n",
       "</style>\n",
       "<table border=\"1\" class=\"dataframe\">\n",
       "  <thead>\n",
       "    <tr style=\"text-align: right;\">\n",
       "      <th></th>\n",
       "      <th>count</th>\n",
       "      <th>unique</th>\n",
       "      <th>top</th>\n",
       "      <th>freq</th>\n",
       "    </tr>\n",
       "  </thead>\n",
       "  <tbody>\n",
       "    <tr>\n",
       "      <th>PassengerId</th>\n",
       "      <td>8693</td>\n",
       "      <td>8693</td>\n",
       "      <td>9280_02</td>\n",
       "      <td>1</td>\n",
       "    </tr>\n",
       "    <tr>\n",
       "      <th>HomePlanet</th>\n",
       "      <td>8492</td>\n",
       "      <td>3</td>\n",
       "      <td>Earth</td>\n",
       "      <td>4602</td>\n",
       "    </tr>\n",
       "    <tr>\n",
       "      <th>CryoSleep</th>\n",
       "      <td>8476</td>\n",
       "      <td>2</td>\n",
       "      <td>False</td>\n",
       "      <td>5439</td>\n",
       "    </tr>\n",
       "    <tr>\n",
       "      <th>Cabin</th>\n",
       "      <td>8494</td>\n",
       "      <td>6560</td>\n",
       "      <td>G/734/S</td>\n",
       "      <td>8</td>\n",
       "    </tr>\n",
       "    <tr>\n",
       "      <th>Destination</th>\n",
       "      <td>8511</td>\n",
       "      <td>3</td>\n",
       "      <td>TRAPPIST-1e</td>\n",
       "      <td>5915</td>\n",
       "    </tr>\n",
       "    <tr>\n",
       "      <th>VIP</th>\n",
       "      <td>8490</td>\n",
       "      <td>2</td>\n",
       "      <td>False</td>\n",
       "      <td>8291</td>\n",
       "    </tr>\n",
       "    <tr>\n",
       "      <th>Name</th>\n",
       "      <td>8493</td>\n",
       "      <td>8473</td>\n",
       "      <td>Anton Woody</td>\n",
       "      <td>2</td>\n",
       "    </tr>\n",
       "  </tbody>\n",
       "</table>\n",
       "</div>"
      ],
      "text/plain": [
       "            count unique          top  freq\n",
       "PassengerId  8693   8693      9280_02     1\n",
       "HomePlanet   8492      3        Earth  4602\n",
       "CryoSleep    8476      2        False  5439\n",
       "Cabin        8494   6560      G/734/S     8\n",
       "Destination  8511      3  TRAPPIST-1e  5915\n",
       "VIP          8490      2        False  8291\n",
       "Name         8493   8473  Anton Woody     2"
      ]
     },
     "execution_count": 10,
     "metadata": {},
     "output_type": "execute_result"
    }
   ],
   "source": [
    "# describing the train data for the object columns\n",
    "train_data.describe(include=\"object\").round().T  # type: ignore"
   ]
  },
  {
   "cell_type": "code",
   "execution_count": 11,
   "id": "51561d49",
   "metadata": {},
   "outputs": [
    {
     "data": {
      "application/vnd.microsoft.datawrangler.viewer.v0+json": {
       "columns": [
        {
         "name": "index",
         "rawType": "object",
         "type": "string"
        },
        {
         "name": "count",
         "rawType": "float64",
         "type": "float"
        },
        {
         "name": "mean",
         "rawType": "float64",
         "type": "float"
        },
        {
         "name": "std",
         "rawType": "float64",
         "type": "float"
        },
        {
         "name": "min",
         "rawType": "float64",
         "type": "float"
        },
        {
         "name": "25%",
         "rawType": "float64",
         "type": "float"
        },
        {
         "name": "50%",
         "rawType": "float64",
         "type": "float"
        },
        {
         "name": "75%",
         "rawType": "float64",
         "type": "float"
        },
        {
         "name": "max",
         "rawType": "float64",
         "type": "float"
        }
       ],
       "ref": "1e27476c-27fe-403a-b509-98c13063f834",
       "rows": [
        [
         "Age",
         "8514.0",
         "29.0",
         "14.0",
         "0.0",
         "19.0",
         "27.0",
         "38.0",
         "79.0"
        ],
        [
         "RoomService",
         "8512.0",
         "225.0",
         "667.0",
         "0.0",
         "0.0",
         "0.0",
         "47.0",
         "14327.0"
        ],
        [
         "FoodCourt",
         "8510.0",
         "458.0",
         "1611.0",
         "0.0",
         "0.0",
         "0.0",
         "76.0",
         "29813.0"
        ],
        [
         "ShoppingMall",
         "8485.0",
         "174.0",
         "605.0",
         "0.0",
         "0.0",
         "0.0",
         "27.0",
         "23492.0"
        ],
        [
         "Spa",
         "8510.0",
         "311.0",
         "1137.0",
         "0.0",
         "0.0",
         "0.0",
         "59.0",
         "22408.0"
        ],
        [
         "VRDeck",
         "8505.0",
         "305.0",
         "1146.0",
         "0.0",
         "0.0",
         "0.0",
         "46.0",
         "24133.0"
        ]
       ],
       "shape": {
        "columns": 8,
        "rows": 6
       }
      },
      "text/html": [
       "<div>\n",
       "<style scoped>\n",
       "    .dataframe tbody tr th:only-of-type {\n",
       "        vertical-align: middle;\n",
       "    }\n",
       "\n",
       "    .dataframe tbody tr th {\n",
       "        vertical-align: top;\n",
       "    }\n",
       "\n",
       "    .dataframe thead th {\n",
       "        text-align: right;\n",
       "    }\n",
       "</style>\n",
       "<table border=\"1\" class=\"dataframe\">\n",
       "  <thead>\n",
       "    <tr style=\"text-align: right;\">\n",
       "      <th></th>\n",
       "      <th>count</th>\n",
       "      <th>mean</th>\n",
       "      <th>std</th>\n",
       "      <th>min</th>\n",
       "      <th>25%</th>\n",
       "      <th>50%</th>\n",
       "      <th>75%</th>\n",
       "      <th>max</th>\n",
       "    </tr>\n",
       "  </thead>\n",
       "  <tbody>\n",
       "    <tr>\n",
       "      <th>Age</th>\n",
       "      <td>8514.0</td>\n",
       "      <td>29.0</td>\n",
       "      <td>14.0</td>\n",
       "      <td>0.0</td>\n",
       "      <td>19.0</td>\n",
       "      <td>27.0</td>\n",
       "      <td>38.0</td>\n",
       "      <td>79.0</td>\n",
       "    </tr>\n",
       "    <tr>\n",
       "      <th>RoomService</th>\n",
       "      <td>8512.0</td>\n",
       "      <td>225.0</td>\n",
       "      <td>667.0</td>\n",
       "      <td>0.0</td>\n",
       "      <td>0.0</td>\n",
       "      <td>0.0</td>\n",
       "      <td>47.0</td>\n",
       "      <td>14327.0</td>\n",
       "    </tr>\n",
       "    <tr>\n",
       "      <th>FoodCourt</th>\n",
       "      <td>8510.0</td>\n",
       "      <td>458.0</td>\n",
       "      <td>1611.0</td>\n",
       "      <td>0.0</td>\n",
       "      <td>0.0</td>\n",
       "      <td>0.0</td>\n",
       "      <td>76.0</td>\n",
       "      <td>29813.0</td>\n",
       "    </tr>\n",
       "    <tr>\n",
       "      <th>ShoppingMall</th>\n",
       "      <td>8485.0</td>\n",
       "      <td>174.0</td>\n",
       "      <td>605.0</td>\n",
       "      <td>0.0</td>\n",
       "      <td>0.0</td>\n",
       "      <td>0.0</td>\n",
       "      <td>27.0</td>\n",
       "      <td>23492.0</td>\n",
       "    </tr>\n",
       "    <tr>\n",
       "      <th>Spa</th>\n",
       "      <td>8510.0</td>\n",
       "      <td>311.0</td>\n",
       "      <td>1137.0</td>\n",
       "      <td>0.0</td>\n",
       "      <td>0.0</td>\n",
       "      <td>0.0</td>\n",
       "      <td>59.0</td>\n",
       "      <td>22408.0</td>\n",
       "    </tr>\n",
       "    <tr>\n",
       "      <th>VRDeck</th>\n",
       "      <td>8505.0</td>\n",
       "      <td>305.0</td>\n",
       "      <td>1146.0</td>\n",
       "      <td>0.0</td>\n",
       "      <td>0.0</td>\n",
       "      <td>0.0</td>\n",
       "      <td>46.0</td>\n",
       "      <td>24133.0</td>\n",
       "    </tr>\n",
       "  </tbody>\n",
       "</table>\n",
       "</div>"
      ],
      "text/plain": [
       "               count   mean     std  min   25%   50%   75%      max\n",
       "Age           8514.0   29.0    14.0  0.0  19.0  27.0  38.0     79.0\n",
       "RoomService   8512.0  225.0   667.0  0.0   0.0   0.0  47.0  14327.0\n",
       "FoodCourt     8510.0  458.0  1611.0  0.0   0.0   0.0  76.0  29813.0\n",
       "ShoppingMall  8485.0  174.0   605.0  0.0   0.0   0.0  27.0  23492.0\n",
       "Spa           8510.0  311.0  1137.0  0.0   0.0   0.0  59.0  22408.0\n",
       "VRDeck        8505.0  305.0  1146.0  0.0   0.0   0.0  46.0  24133.0"
      ]
     },
     "execution_count": 11,
     "metadata": {},
     "output_type": "execute_result"
    }
   ],
   "source": [
    "# describing the train data for the numerical columns\n",
    "train_data.describe().round().T"
   ]
  },
  {
   "cell_type": "code",
   "execution_count": 12,
   "id": "dc5fb850",
   "metadata": {},
   "outputs": [
    {
     "data": {
      "application/vnd.microsoft.datawrangler.viewer.v0+json": {
       "columns": [
        {
         "name": "index",
         "rawType": "int64",
         "type": "integer"
        },
        {
         "name": "PassengerId",
         "rawType": "object",
         "type": "string"
        },
        {
         "name": "HomePlanet",
         "rawType": "object",
         "type": "string"
        },
        {
         "name": "CryoSleep",
         "rawType": "object",
         "type": "unknown"
        },
        {
         "name": "Cabin",
         "rawType": "object",
         "type": "string"
        },
        {
         "name": "Destination",
         "rawType": "object",
         "type": "string"
        },
        {
         "name": "Age",
         "rawType": "float64",
         "type": "float"
        },
        {
         "name": "VIP",
         "rawType": "object",
         "type": "unknown"
        },
        {
         "name": "RoomService",
         "rawType": "float64",
         "type": "float"
        },
        {
         "name": "FoodCourt",
         "rawType": "float64",
         "type": "float"
        },
        {
         "name": "ShoppingMall",
         "rawType": "float64",
         "type": "float"
        },
        {
         "name": "Spa",
         "rawType": "float64",
         "type": "float"
        },
        {
         "name": "VRDeck",
         "rawType": "float64",
         "type": "float"
        },
        {
         "name": "Name",
         "rawType": "object",
         "type": "string"
        },
        {
         "name": "Transported",
         "rawType": "bool",
         "type": "boolean"
        }
       ],
       "ref": "99d8c2f4-518b-4f5f-b155-495d76ec6af5",
       "rows": [
        [
         "0",
         "0001_01",
         "Europa",
         "False",
         "B/0/P",
         "TRAPPIST-1e",
         "39.0",
         "False",
         "0.0",
         "0.0",
         "0.0",
         "0.0",
         "0.0",
         "Maham Ofracculy",
         "False"
        ],
        [
         "1",
         "0002_01",
         "Earth",
         "False",
         "F/0/S",
         "TRAPPIST-1e",
         "24.0",
         "False",
         "109.0",
         "9.0",
         "25.0",
         "549.0",
         "44.0",
         "Juanna Vines",
         "True"
        ],
        [
         "2",
         "0003_01",
         "Europa",
         "False",
         "A/0/S",
         "TRAPPIST-1e",
         "58.0",
         "True",
         "43.0",
         "3576.0",
         "0.0",
         "6715.0",
         "49.0",
         "Altark Susent",
         "False"
        ],
        [
         "3",
         "0003_02",
         "Europa",
         "False",
         "A/0/S",
         "TRAPPIST-1e",
         "33.0",
         "False",
         "0.0",
         "1283.0",
         "371.0",
         "3329.0",
         "193.0",
         "Solam Susent",
         "False"
        ],
        [
         "4",
         "0004_01",
         "Earth",
         "False",
         "F/1/S",
         "TRAPPIST-1e",
         "16.0",
         "False",
         "303.0",
         "70.0",
         "151.0",
         "565.0",
         "2.0",
         "Willy Santantines",
         "True"
        ]
       ],
       "shape": {
        "columns": 14,
        "rows": 5
       }
      },
      "text/html": [
       "<div>\n",
       "<style scoped>\n",
       "    .dataframe tbody tr th:only-of-type {\n",
       "        vertical-align: middle;\n",
       "    }\n",
       "\n",
       "    .dataframe tbody tr th {\n",
       "        vertical-align: top;\n",
       "    }\n",
       "\n",
       "    .dataframe thead th {\n",
       "        text-align: right;\n",
       "    }\n",
       "</style>\n",
       "<table border=\"1\" class=\"dataframe\">\n",
       "  <thead>\n",
       "    <tr style=\"text-align: right;\">\n",
       "      <th></th>\n",
       "      <th>PassengerId</th>\n",
       "      <th>HomePlanet</th>\n",
       "      <th>CryoSleep</th>\n",
       "      <th>Cabin</th>\n",
       "      <th>Destination</th>\n",
       "      <th>Age</th>\n",
       "      <th>VIP</th>\n",
       "      <th>RoomService</th>\n",
       "      <th>FoodCourt</th>\n",
       "      <th>ShoppingMall</th>\n",
       "      <th>Spa</th>\n",
       "      <th>VRDeck</th>\n",
       "      <th>Name</th>\n",
       "      <th>Transported</th>\n",
       "    </tr>\n",
       "  </thead>\n",
       "  <tbody>\n",
       "    <tr>\n",
       "      <th>0</th>\n",
       "      <td>0001_01</td>\n",
       "      <td>Europa</td>\n",
       "      <td>False</td>\n",
       "      <td>B/0/P</td>\n",
       "      <td>TRAPPIST-1e</td>\n",
       "      <td>39.0</td>\n",
       "      <td>False</td>\n",
       "      <td>0.0</td>\n",
       "      <td>0.0</td>\n",
       "      <td>0.0</td>\n",
       "      <td>0.0</td>\n",
       "      <td>0.0</td>\n",
       "      <td>Maham Ofracculy</td>\n",
       "      <td>False</td>\n",
       "    </tr>\n",
       "    <tr>\n",
       "      <th>1</th>\n",
       "      <td>0002_01</td>\n",
       "      <td>Earth</td>\n",
       "      <td>False</td>\n",
       "      <td>F/0/S</td>\n",
       "      <td>TRAPPIST-1e</td>\n",
       "      <td>24.0</td>\n",
       "      <td>False</td>\n",
       "      <td>109.0</td>\n",
       "      <td>9.0</td>\n",
       "      <td>25.0</td>\n",
       "      <td>549.0</td>\n",
       "      <td>44.0</td>\n",
       "      <td>Juanna Vines</td>\n",
       "      <td>True</td>\n",
       "    </tr>\n",
       "    <tr>\n",
       "      <th>2</th>\n",
       "      <td>0003_01</td>\n",
       "      <td>Europa</td>\n",
       "      <td>False</td>\n",
       "      <td>A/0/S</td>\n",
       "      <td>TRAPPIST-1e</td>\n",
       "      <td>58.0</td>\n",
       "      <td>True</td>\n",
       "      <td>43.0</td>\n",
       "      <td>3576.0</td>\n",
       "      <td>0.0</td>\n",
       "      <td>6715.0</td>\n",
       "      <td>49.0</td>\n",
       "      <td>Altark Susent</td>\n",
       "      <td>False</td>\n",
       "    </tr>\n",
       "    <tr>\n",
       "      <th>3</th>\n",
       "      <td>0003_02</td>\n",
       "      <td>Europa</td>\n",
       "      <td>False</td>\n",
       "      <td>A/0/S</td>\n",
       "      <td>TRAPPIST-1e</td>\n",
       "      <td>33.0</td>\n",
       "      <td>False</td>\n",
       "      <td>0.0</td>\n",
       "      <td>1283.0</td>\n",
       "      <td>371.0</td>\n",
       "      <td>3329.0</td>\n",
       "      <td>193.0</td>\n",
       "      <td>Solam Susent</td>\n",
       "      <td>False</td>\n",
       "    </tr>\n",
       "    <tr>\n",
       "      <th>4</th>\n",
       "      <td>0004_01</td>\n",
       "      <td>Earth</td>\n",
       "      <td>False</td>\n",
       "      <td>F/1/S</td>\n",
       "      <td>TRAPPIST-1e</td>\n",
       "      <td>16.0</td>\n",
       "      <td>False</td>\n",
       "      <td>303.0</td>\n",
       "      <td>70.0</td>\n",
       "      <td>151.0</td>\n",
       "      <td>565.0</td>\n",
       "      <td>2.0</td>\n",
       "      <td>Willy Santantines</td>\n",
       "      <td>True</td>\n",
       "    </tr>\n",
       "  </tbody>\n",
       "</table>\n",
       "</div>"
      ],
      "text/plain": [
       "  PassengerId HomePlanet CryoSleep  Cabin  Destination   Age    VIP  \\\n",
       "0     0001_01     Europa     False  B/0/P  TRAPPIST-1e  39.0  False   \n",
       "1     0002_01      Earth     False  F/0/S  TRAPPIST-1e  24.0  False   \n",
       "2     0003_01     Europa     False  A/0/S  TRAPPIST-1e  58.0   True   \n",
       "3     0003_02     Europa     False  A/0/S  TRAPPIST-1e  33.0  False   \n",
       "4     0004_01      Earth     False  F/1/S  TRAPPIST-1e  16.0  False   \n",
       "\n",
       "   RoomService  FoodCourt  ShoppingMall     Spa  VRDeck               Name  \\\n",
       "0          0.0        0.0           0.0     0.0     0.0    Maham Ofracculy   \n",
       "1        109.0        9.0          25.0   549.0    44.0       Juanna Vines   \n",
       "2         43.0     3576.0           0.0  6715.0    49.0      Altark Susent   \n",
       "3          0.0     1283.0         371.0  3329.0   193.0       Solam Susent   \n",
       "4        303.0       70.0         151.0   565.0     2.0  Willy Santantines   \n",
       "\n",
       "   Transported  \n",
       "0        False  \n",
       "1         True  \n",
       "2        False  \n",
       "3        False  \n",
       "4         True  "
      ]
     },
     "execution_count": 12,
     "metadata": {},
     "output_type": "execute_result"
    }
   ],
   "source": [
    "# looking at the data -- train\n",
    "train_data.head()"
   ]
  },
  {
   "cell_type": "code",
   "execution_count": 13,
   "id": "f05e6f06",
   "metadata": {},
   "outputs": [
    {
     "name": "stdout",
     "output_type": "stream",
     "text": [
      "              MissingCount  MissingPercentage\n",
      "PassengerId              0               0.00\n",
      "HomePlanet             201               2.31\n",
      "CryoSleep              217               2.50\n",
      "Cabin                  199               2.29\n",
      "Destination            182               2.09\n",
      "Age                    179               2.06\n",
      "VIP                    203               2.34\n",
      "RoomService            181               2.08\n",
      "FoodCourt              183               2.11\n",
      "ShoppingMall           208               2.39\n",
      "Spa                    183               2.11\n",
      "VRDeck                 188               2.16\n",
      "Name                   200               2.30\n",
      "Transported              0               0.00\n"
     ]
    }
   ],
   "source": [
    "# looking at the missing values in train\n",
    "missing_data(train_data)"
   ]
  },
  {
   "cell_type": "markdown",
   "id": "126f4e16",
   "metadata": {},
   "source": [
    "#### Test Dataset"
   ]
  },
  {
   "cell_type": "code",
   "execution_count": 14,
   "id": "3b53ce48",
   "metadata": {},
   "outputs": [
    {
     "name": "stdout",
     "output_type": "stream",
     "text": [
      "<class 'pandas.core.frame.DataFrame'>\n",
      "RangeIndex: 4277 entries, 0 to 4276\n",
      "Data columns (total 13 columns):\n",
      " #   Column        Non-Null Count  Dtype  \n",
      "---  ------        --------------  -----  \n",
      " 0   PassengerId   4277 non-null   object \n",
      " 1   HomePlanet    4190 non-null   object \n",
      " 2   CryoSleep     4184 non-null   object \n",
      " 3   Cabin         4177 non-null   object \n",
      " 4   Destination   4185 non-null   object \n",
      " 5   Age           4186 non-null   float64\n",
      " 6   VIP           4184 non-null   object \n",
      " 7   RoomService   4195 non-null   float64\n",
      " 8   FoodCourt     4171 non-null   float64\n",
      " 9   ShoppingMall  4179 non-null   float64\n",
      " 10  Spa           4176 non-null   float64\n",
      " 11  VRDeck        4197 non-null   float64\n",
      " 12  Name          4183 non-null   object \n",
      "dtypes: float64(6), object(7)\n",
      "memory usage: 434.5+ KB\n"
     ]
    }
   ],
   "source": [
    "# column type information -- test\n",
    "test_data.info()"
   ]
  },
  {
   "cell_type": "code",
   "execution_count": 15,
   "id": "15d93ce2",
   "metadata": {},
   "outputs": [
    {
     "data": {
      "application/vnd.microsoft.datawrangler.viewer.v0+json": {
       "columns": [
        {
         "name": "index",
         "rawType": "object",
         "type": "string"
        },
        {
         "name": "PassengerId",
         "rawType": "object",
         "type": "unknown"
        },
        {
         "name": "HomePlanet",
         "rawType": "object",
         "type": "unknown"
        },
        {
         "name": "CryoSleep",
         "rawType": "object",
         "type": "unknown"
        },
        {
         "name": "Cabin",
         "rawType": "object",
         "type": "unknown"
        },
        {
         "name": "Destination",
         "rawType": "object",
         "type": "unknown"
        },
        {
         "name": "Age",
         "rawType": "float64",
         "type": "float"
        },
        {
         "name": "VIP",
         "rawType": "object",
         "type": "unknown"
        },
        {
         "name": "RoomService",
         "rawType": "float64",
         "type": "float"
        },
        {
         "name": "FoodCourt",
         "rawType": "float64",
         "type": "float"
        },
        {
         "name": "ShoppingMall",
         "rawType": "float64",
         "type": "float"
        },
        {
         "name": "Spa",
         "rawType": "float64",
         "type": "float"
        },
        {
         "name": "VRDeck",
         "rawType": "float64",
         "type": "float"
        },
        {
         "name": "Name",
         "rawType": "object",
         "type": "unknown"
        }
       ],
       "ref": "af98d57f-0152-4eb6-b1d6-97c42a84f6d1",
       "rows": [
        [
         "count",
         "4277",
         "4190",
         "4184",
         "4177",
         "4185",
         "4186.0",
         "4184",
         "4195.0",
         "4171.0",
         "4179.0",
         "4176.0",
         "4197.0",
         "4183"
        ],
        [
         "unique",
         "4277",
         "3",
         "2",
         "3265",
         "3",
         null,
         "2",
         null,
         null,
         null,
         null,
         null,
         "4176"
        ],
        [
         "top",
         "9277_01",
         "Earth",
         "False",
         "G/160/P",
         "TRAPPIST-1e",
         null,
         "False",
         null,
         null,
         null,
         null,
         null,
         "Lyney Sellahaney"
        ],
        [
         "freq",
         "1",
         "2263",
         "2640",
         "8",
         "2956",
         null,
         "4110",
         null,
         null,
         null,
         null,
         null,
         "2"
        ],
        [
         "mean",
         null,
         null,
         null,
         null,
         null,
         "28.65814620162446",
         null,
         "219.26626936829558",
         "439.4842963318149",
         "177.29552524527398",
         "303.05244252873564",
         "310.71003097450557",
         null
        ],
        [
         "std",
         null,
         null,
         null,
         null,
         null,
         "14.179071585227373",
         null,
         "607.0112887875921",
         "1527.6630449251804",
         "560.8211231958651",
         "1117.1860149409592",
         "1246.9947416212326",
         null
        ],
        [
         "min",
         null,
         null,
         null,
         null,
         null,
         "0.0",
         null,
         "0.0",
         "0.0",
         "0.0",
         "0.0",
         "0.0",
         null
        ],
        [
         "25%",
         null,
         null,
         null,
         null,
         null,
         "19.0",
         null,
         "0.0",
         "0.0",
         "0.0",
         "0.0",
         "0.0",
         null
        ],
        [
         "50%",
         null,
         null,
         null,
         null,
         null,
         "26.0",
         null,
         "0.0",
         "0.0",
         "0.0",
         "0.0",
         "0.0",
         null
        ],
        [
         "75%",
         null,
         null,
         null,
         null,
         null,
         "37.0",
         null,
         "53.0",
         "78.0",
         "33.0",
         "50.0",
         "36.0",
         null
        ],
        [
         "max",
         null,
         null,
         null,
         null,
         null,
         "79.0",
         null,
         "11567.0",
         "25273.0",
         "8292.0",
         "19844.0",
         "22272.0",
         null
        ]
       ],
       "shape": {
        "columns": 13,
        "rows": 11
       }
      },
      "text/html": [
       "<div>\n",
       "<style scoped>\n",
       "    .dataframe tbody tr th:only-of-type {\n",
       "        vertical-align: middle;\n",
       "    }\n",
       "\n",
       "    .dataframe tbody tr th {\n",
       "        vertical-align: top;\n",
       "    }\n",
       "\n",
       "    .dataframe thead th {\n",
       "        text-align: right;\n",
       "    }\n",
       "</style>\n",
       "<table border=\"1\" class=\"dataframe\">\n",
       "  <thead>\n",
       "    <tr style=\"text-align: right;\">\n",
       "      <th></th>\n",
       "      <th>PassengerId</th>\n",
       "      <th>HomePlanet</th>\n",
       "      <th>CryoSleep</th>\n",
       "      <th>Cabin</th>\n",
       "      <th>Destination</th>\n",
       "      <th>Age</th>\n",
       "      <th>VIP</th>\n",
       "      <th>RoomService</th>\n",
       "      <th>FoodCourt</th>\n",
       "      <th>ShoppingMall</th>\n",
       "      <th>Spa</th>\n",
       "      <th>VRDeck</th>\n",
       "      <th>Name</th>\n",
       "    </tr>\n",
       "  </thead>\n",
       "  <tbody>\n",
       "    <tr>\n",
       "      <th>count</th>\n",
       "      <td>4277</td>\n",
       "      <td>4190</td>\n",
       "      <td>4184</td>\n",
       "      <td>4177</td>\n",
       "      <td>4185</td>\n",
       "      <td>4186.000000</td>\n",
       "      <td>4184</td>\n",
       "      <td>4195.000000</td>\n",
       "      <td>4171.000000</td>\n",
       "      <td>4179.000000</td>\n",
       "      <td>4176.000000</td>\n",
       "      <td>4197.000000</td>\n",
       "      <td>4183</td>\n",
       "    </tr>\n",
       "    <tr>\n",
       "      <th>unique</th>\n",
       "      <td>4277</td>\n",
       "      <td>3</td>\n",
       "      <td>2</td>\n",
       "      <td>3265</td>\n",
       "      <td>3</td>\n",
       "      <td>NaN</td>\n",
       "      <td>2</td>\n",
       "      <td>NaN</td>\n",
       "      <td>NaN</td>\n",
       "      <td>NaN</td>\n",
       "      <td>NaN</td>\n",
       "      <td>NaN</td>\n",
       "      <td>4176</td>\n",
       "    </tr>\n",
       "    <tr>\n",
       "      <th>top</th>\n",
       "      <td>9277_01</td>\n",
       "      <td>Earth</td>\n",
       "      <td>False</td>\n",
       "      <td>G/160/P</td>\n",
       "      <td>TRAPPIST-1e</td>\n",
       "      <td>NaN</td>\n",
       "      <td>False</td>\n",
       "      <td>NaN</td>\n",
       "      <td>NaN</td>\n",
       "      <td>NaN</td>\n",
       "      <td>NaN</td>\n",
       "      <td>NaN</td>\n",
       "      <td>Lyney Sellahaney</td>\n",
       "    </tr>\n",
       "    <tr>\n",
       "      <th>freq</th>\n",
       "      <td>1</td>\n",
       "      <td>2263</td>\n",
       "      <td>2640</td>\n",
       "      <td>8</td>\n",
       "      <td>2956</td>\n",
       "      <td>NaN</td>\n",
       "      <td>4110</td>\n",
       "      <td>NaN</td>\n",
       "      <td>NaN</td>\n",
       "      <td>NaN</td>\n",
       "      <td>NaN</td>\n",
       "      <td>NaN</td>\n",
       "      <td>2</td>\n",
       "    </tr>\n",
       "    <tr>\n",
       "      <th>mean</th>\n",
       "      <td>NaN</td>\n",
       "      <td>NaN</td>\n",
       "      <td>NaN</td>\n",
       "      <td>NaN</td>\n",
       "      <td>NaN</td>\n",
       "      <td>28.658146</td>\n",
       "      <td>NaN</td>\n",
       "      <td>219.266269</td>\n",
       "      <td>439.484296</td>\n",
       "      <td>177.295525</td>\n",
       "      <td>303.052443</td>\n",
       "      <td>310.710031</td>\n",
       "      <td>NaN</td>\n",
       "    </tr>\n",
       "    <tr>\n",
       "      <th>std</th>\n",
       "      <td>NaN</td>\n",
       "      <td>NaN</td>\n",
       "      <td>NaN</td>\n",
       "      <td>NaN</td>\n",
       "      <td>NaN</td>\n",
       "      <td>14.179072</td>\n",
       "      <td>NaN</td>\n",
       "      <td>607.011289</td>\n",
       "      <td>1527.663045</td>\n",
       "      <td>560.821123</td>\n",
       "      <td>1117.186015</td>\n",
       "      <td>1246.994742</td>\n",
       "      <td>NaN</td>\n",
       "    </tr>\n",
       "    <tr>\n",
       "      <th>min</th>\n",
       "      <td>NaN</td>\n",
       "      <td>NaN</td>\n",
       "      <td>NaN</td>\n",
       "      <td>NaN</td>\n",
       "      <td>NaN</td>\n",
       "      <td>0.000000</td>\n",
       "      <td>NaN</td>\n",
       "      <td>0.000000</td>\n",
       "      <td>0.000000</td>\n",
       "      <td>0.000000</td>\n",
       "      <td>0.000000</td>\n",
       "      <td>0.000000</td>\n",
       "      <td>NaN</td>\n",
       "    </tr>\n",
       "    <tr>\n",
       "      <th>25%</th>\n",
       "      <td>NaN</td>\n",
       "      <td>NaN</td>\n",
       "      <td>NaN</td>\n",
       "      <td>NaN</td>\n",
       "      <td>NaN</td>\n",
       "      <td>19.000000</td>\n",
       "      <td>NaN</td>\n",
       "      <td>0.000000</td>\n",
       "      <td>0.000000</td>\n",
       "      <td>0.000000</td>\n",
       "      <td>0.000000</td>\n",
       "      <td>0.000000</td>\n",
       "      <td>NaN</td>\n",
       "    </tr>\n",
       "    <tr>\n",
       "      <th>50%</th>\n",
       "      <td>NaN</td>\n",
       "      <td>NaN</td>\n",
       "      <td>NaN</td>\n",
       "      <td>NaN</td>\n",
       "      <td>NaN</td>\n",
       "      <td>26.000000</td>\n",
       "      <td>NaN</td>\n",
       "      <td>0.000000</td>\n",
       "      <td>0.000000</td>\n",
       "      <td>0.000000</td>\n",
       "      <td>0.000000</td>\n",
       "      <td>0.000000</td>\n",
       "      <td>NaN</td>\n",
       "    </tr>\n",
       "    <tr>\n",
       "      <th>75%</th>\n",
       "      <td>NaN</td>\n",
       "      <td>NaN</td>\n",
       "      <td>NaN</td>\n",
       "      <td>NaN</td>\n",
       "      <td>NaN</td>\n",
       "      <td>37.000000</td>\n",
       "      <td>NaN</td>\n",
       "      <td>53.000000</td>\n",
       "      <td>78.000000</td>\n",
       "      <td>33.000000</td>\n",
       "      <td>50.000000</td>\n",
       "      <td>36.000000</td>\n",
       "      <td>NaN</td>\n",
       "    </tr>\n",
       "    <tr>\n",
       "      <th>max</th>\n",
       "      <td>NaN</td>\n",
       "      <td>NaN</td>\n",
       "      <td>NaN</td>\n",
       "      <td>NaN</td>\n",
       "      <td>NaN</td>\n",
       "      <td>79.000000</td>\n",
       "      <td>NaN</td>\n",
       "      <td>11567.000000</td>\n",
       "      <td>25273.000000</td>\n",
       "      <td>8292.000000</td>\n",
       "      <td>19844.000000</td>\n",
       "      <td>22272.000000</td>\n",
       "      <td>NaN</td>\n",
       "    </tr>\n",
       "  </tbody>\n",
       "</table>\n",
       "</div>"
      ],
      "text/plain": [
       "       PassengerId HomePlanet CryoSleep    Cabin  Destination          Age  \\\n",
       "count         4277       4190      4184     4177         4185  4186.000000   \n",
       "unique        4277          3         2     3265            3          NaN   \n",
       "top        9277_01      Earth     False  G/160/P  TRAPPIST-1e          NaN   \n",
       "freq             1       2263      2640        8         2956          NaN   \n",
       "mean           NaN        NaN       NaN      NaN          NaN    28.658146   \n",
       "std            NaN        NaN       NaN      NaN          NaN    14.179072   \n",
       "min            NaN        NaN       NaN      NaN          NaN     0.000000   \n",
       "25%            NaN        NaN       NaN      NaN          NaN    19.000000   \n",
       "50%            NaN        NaN       NaN      NaN          NaN    26.000000   \n",
       "75%            NaN        NaN       NaN      NaN          NaN    37.000000   \n",
       "max            NaN        NaN       NaN      NaN          NaN    79.000000   \n",
       "\n",
       "          VIP   RoomService     FoodCourt  ShoppingMall           Spa  \\\n",
       "count    4184   4195.000000   4171.000000   4179.000000   4176.000000   \n",
       "unique      2           NaN           NaN           NaN           NaN   \n",
       "top     False           NaN           NaN           NaN           NaN   \n",
       "freq     4110           NaN           NaN           NaN           NaN   \n",
       "mean      NaN    219.266269    439.484296    177.295525    303.052443   \n",
       "std       NaN    607.011289   1527.663045    560.821123   1117.186015   \n",
       "min       NaN      0.000000      0.000000      0.000000      0.000000   \n",
       "25%       NaN      0.000000      0.000000      0.000000      0.000000   \n",
       "50%       NaN      0.000000      0.000000      0.000000      0.000000   \n",
       "75%       NaN     53.000000     78.000000     33.000000     50.000000   \n",
       "max       NaN  11567.000000  25273.000000   8292.000000  19844.000000   \n",
       "\n",
       "              VRDeck              Name  \n",
       "count    4197.000000              4183  \n",
       "unique           NaN              4176  \n",
       "top              NaN  Lyney Sellahaney  \n",
       "freq             NaN                 2  \n",
       "mean      310.710031               NaN  \n",
       "std      1246.994742               NaN  \n",
       "min         0.000000               NaN  \n",
       "25%         0.000000               NaN  \n",
       "50%         0.000000               NaN  \n",
       "75%        36.000000               NaN  \n",
       "max     22272.000000               NaN  "
      ]
     },
     "execution_count": 15,
     "metadata": {},
     "output_type": "execute_result"
    }
   ],
   "source": [
    "# describing the train data for all the columns\n",
    "test_data.describe(include=\"all\")"
   ]
  },
  {
   "cell_type": "code",
   "execution_count": 16,
   "id": "7a9d4679",
   "metadata": {},
   "outputs": [
    {
     "data": {
      "application/vnd.microsoft.datawrangler.viewer.v0+json": {
       "columns": [
        {
         "name": "index",
         "rawType": "object",
         "type": "string"
        },
        {
         "name": "count",
         "rawType": "object",
         "type": "unknown"
        },
        {
         "name": "unique",
         "rawType": "object",
         "type": "unknown"
        },
        {
         "name": "top",
         "rawType": "object",
         "type": "unknown"
        },
        {
         "name": "freq",
         "rawType": "object",
         "type": "unknown"
        }
       ],
       "ref": "f06135ef-a97d-490a-b57c-96e2140001e4",
       "rows": [
        [
         "PassengerId",
         "4277",
         "4277",
         "9277_01",
         "1"
        ],
        [
         "HomePlanet",
         "4190",
         "3",
         "Earth",
         "2263"
        ],
        [
         "CryoSleep",
         "4184",
         "2",
         "False",
         "2640"
        ],
        [
         "Cabin",
         "4177",
         "3265",
         "G/160/P",
         "8"
        ],
        [
         "Destination",
         "4185",
         "3",
         "TRAPPIST-1e",
         "2956"
        ],
        [
         "VIP",
         "4184",
         "2",
         "False",
         "4110"
        ],
        [
         "Name",
         "4183",
         "4176",
         "Lyney Sellahaney",
         "2"
        ]
       ],
       "shape": {
        "columns": 4,
        "rows": 7
       }
      },
      "text/html": [
       "<div>\n",
       "<style scoped>\n",
       "    .dataframe tbody tr th:only-of-type {\n",
       "        vertical-align: middle;\n",
       "    }\n",
       "\n",
       "    .dataframe tbody tr th {\n",
       "        vertical-align: top;\n",
       "    }\n",
       "\n",
       "    .dataframe thead th {\n",
       "        text-align: right;\n",
       "    }\n",
       "</style>\n",
       "<table border=\"1\" class=\"dataframe\">\n",
       "  <thead>\n",
       "    <tr style=\"text-align: right;\">\n",
       "      <th></th>\n",
       "      <th>count</th>\n",
       "      <th>unique</th>\n",
       "      <th>top</th>\n",
       "      <th>freq</th>\n",
       "    </tr>\n",
       "  </thead>\n",
       "  <tbody>\n",
       "    <tr>\n",
       "      <th>PassengerId</th>\n",
       "      <td>4277</td>\n",
       "      <td>4277</td>\n",
       "      <td>9277_01</td>\n",
       "      <td>1</td>\n",
       "    </tr>\n",
       "    <tr>\n",
       "      <th>HomePlanet</th>\n",
       "      <td>4190</td>\n",
       "      <td>3</td>\n",
       "      <td>Earth</td>\n",
       "      <td>2263</td>\n",
       "    </tr>\n",
       "    <tr>\n",
       "      <th>CryoSleep</th>\n",
       "      <td>4184</td>\n",
       "      <td>2</td>\n",
       "      <td>False</td>\n",
       "      <td>2640</td>\n",
       "    </tr>\n",
       "    <tr>\n",
       "      <th>Cabin</th>\n",
       "      <td>4177</td>\n",
       "      <td>3265</td>\n",
       "      <td>G/160/P</td>\n",
       "      <td>8</td>\n",
       "    </tr>\n",
       "    <tr>\n",
       "      <th>Destination</th>\n",
       "      <td>4185</td>\n",
       "      <td>3</td>\n",
       "      <td>TRAPPIST-1e</td>\n",
       "      <td>2956</td>\n",
       "    </tr>\n",
       "    <tr>\n",
       "      <th>VIP</th>\n",
       "      <td>4184</td>\n",
       "      <td>2</td>\n",
       "      <td>False</td>\n",
       "      <td>4110</td>\n",
       "    </tr>\n",
       "    <tr>\n",
       "      <th>Name</th>\n",
       "      <td>4183</td>\n",
       "      <td>4176</td>\n",
       "      <td>Lyney Sellahaney</td>\n",
       "      <td>2</td>\n",
       "    </tr>\n",
       "  </tbody>\n",
       "</table>\n",
       "</div>"
      ],
      "text/plain": [
       "            count unique               top  freq\n",
       "PassengerId  4277   4277           9277_01     1\n",
       "HomePlanet   4190      3             Earth  2263\n",
       "CryoSleep    4184      2             False  2640\n",
       "Cabin        4177   3265           G/160/P     8\n",
       "Destination  4185      3       TRAPPIST-1e  2956\n",
       "VIP          4184      2             False  4110\n",
       "Name         4183   4176  Lyney Sellahaney     2"
      ]
     },
     "execution_count": 16,
     "metadata": {},
     "output_type": "execute_result"
    }
   ],
   "source": [
    "# describing the train data for the object columns\n",
    "test_data.describe(include=\"object\").round().T  # type: ignore"
   ]
  },
  {
   "cell_type": "code",
   "execution_count": 17,
   "id": "174706e3",
   "metadata": {},
   "outputs": [
    {
     "data": {
      "application/vnd.microsoft.datawrangler.viewer.v0+json": {
       "columns": [
        {
         "name": "index",
         "rawType": "object",
         "type": "string"
        },
        {
         "name": "count",
         "rawType": "float64",
         "type": "float"
        },
        {
         "name": "mean",
         "rawType": "float64",
         "type": "float"
        },
        {
         "name": "std",
         "rawType": "float64",
         "type": "float"
        },
        {
         "name": "min",
         "rawType": "float64",
         "type": "float"
        },
        {
         "name": "25%",
         "rawType": "float64",
         "type": "float"
        },
        {
         "name": "50%",
         "rawType": "float64",
         "type": "float"
        },
        {
         "name": "75%",
         "rawType": "float64",
         "type": "float"
        },
        {
         "name": "max",
         "rawType": "float64",
         "type": "float"
        }
       ],
       "ref": "baaa013b-cc70-419d-99d7-64c9c32c65c9",
       "rows": [
        [
         "Age",
         "4186.0",
         "29.0",
         "14.0",
         "0.0",
         "19.0",
         "26.0",
         "37.0",
         "79.0"
        ],
        [
         "RoomService",
         "4195.0",
         "219.0",
         "607.0",
         "0.0",
         "0.0",
         "0.0",
         "53.0",
         "11567.0"
        ],
        [
         "FoodCourt",
         "4171.0",
         "439.0",
         "1528.0",
         "0.0",
         "0.0",
         "0.0",
         "78.0",
         "25273.0"
        ],
        [
         "ShoppingMall",
         "4179.0",
         "177.0",
         "561.0",
         "0.0",
         "0.0",
         "0.0",
         "33.0",
         "8292.0"
        ],
        [
         "Spa",
         "4176.0",
         "303.0",
         "1117.0",
         "0.0",
         "0.0",
         "0.0",
         "50.0",
         "19844.0"
        ],
        [
         "VRDeck",
         "4197.0",
         "311.0",
         "1247.0",
         "0.0",
         "0.0",
         "0.0",
         "36.0",
         "22272.0"
        ]
       ],
       "shape": {
        "columns": 8,
        "rows": 6
       }
      },
      "text/html": [
       "<div>\n",
       "<style scoped>\n",
       "    .dataframe tbody tr th:only-of-type {\n",
       "        vertical-align: middle;\n",
       "    }\n",
       "\n",
       "    .dataframe tbody tr th {\n",
       "        vertical-align: top;\n",
       "    }\n",
       "\n",
       "    .dataframe thead th {\n",
       "        text-align: right;\n",
       "    }\n",
       "</style>\n",
       "<table border=\"1\" class=\"dataframe\">\n",
       "  <thead>\n",
       "    <tr style=\"text-align: right;\">\n",
       "      <th></th>\n",
       "      <th>count</th>\n",
       "      <th>mean</th>\n",
       "      <th>std</th>\n",
       "      <th>min</th>\n",
       "      <th>25%</th>\n",
       "      <th>50%</th>\n",
       "      <th>75%</th>\n",
       "      <th>max</th>\n",
       "    </tr>\n",
       "  </thead>\n",
       "  <tbody>\n",
       "    <tr>\n",
       "      <th>Age</th>\n",
       "      <td>4186.0</td>\n",
       "      <td>29.0</td>\n",
       "      <td>14.0</td>\n",
       "      <td>0.0</td>\n",
       "      <td>19.0</td>\n",
       "      <td>26.0</td>\n",
       "      <td>37.0</td>\n",
       "      <td>79.0</td>\n",
       "    </tr>\n",
       "    <tr>\n",
       "      <th>RoomService</th>\n",
       "      <td>4195.0</td>\n",
       "      <td>219.0</td>\n",
       "      <td>607.0</td>\n",
       "      <td>0.0</td>\n",
       "      <td>0.0</td>\n",
       "      <td>0.0</td>\n",
       "      <td>53.0</td>\n",
       "      <td>11567.0</td>\n",
       "    </tr>\n",
       "    <tr>\n",
       "      <th>FoodCourt</th>\n",
       "      <td>4171.0</td>\n",
       "      <td>439.0</td>\n",
       "      <td>1528.0</td>\n",
       "      <td>0.0</td>\n",
       "      <td>0.0</td>\n",
       "      <td>0.0</td>\n",
       "      <td>78.0</td>\n",
       "      <td>25273.0</td>\n",
       "    </tr>\n",
       "    <tr>\n",
       "      <th>ShoppingMall</th>\n",
       "      <td>4179.0</td>\n",
       "      <td>177.0</td>\n",
       "      <td>561.0</td>\n",
       "      <td>0.0</td>\n",
       "      <td>0.0</td>\n",
       "      <td>0.0</td>\n",
       "      <td>33.0</td>\n",
       "      <td>8292.0</td>\n",
       "    </tr>\n",
       "    <tr>\n",
       "      <th>Spa</th>\n",
       "      <td>4176.0</td>\n",
       "      <td>303.0</td>\n",
       "      <td>1117.0</td>\n",
       "      <td>0.0</td>\n",
       "      <td>0.0</td>\n",
       "      <td>0.0</td>\n",
       "      <td>50.0</td>\n",
       "      <td>19844.0</td>\n",
       "    </tr>\n",
       "    <tr>\n",
       "      <th>VRDeck</th>\n",
       "      <td>4197.0</td>\n",
       "      <td>311.0</td>\n",
       "      <td>1247.0</td>\n",
       "      <td>0.0</td>\n",
       "      <td>0.0</td>\n",
       "      <td>0.0</td>\n",
       "      <td>36.0</td>\n",
       "      <td>22272.0</td>\n",
       "    </tr>\n",
       "  </tbody>\n",
       "</table>\n",
       "</div>"
      ],
      "text/plain": [
       "               count   mean     std  min   25%   50%   75%      max\n",
       "Age           4186.0   29.0    14.0  0.0  19.0  26.0  37.0     79.0\n",
       "RoomService   4195.0  219.0   607.0  0.0   0.0   0.0  53.0  11567.0\n",
       "FoodCourt     4171.0  439.0  1528.0  0.0   0.0   0.0  78.0  25273.0\n",
       "ShoppingMall  4179.0  177.0   561.0  0.0   0.0   0.0  33.0   8292.0\n",
       "Spa           4176.0  303.0  1117.0  0.0   0.0   0.0  50.0  19844.0\n",
       "VRDeck        4197.0  311.0  1247.0  0.0   0.0   0.0  36.0  22272.0"
      ]
     },
     "execution_count": 17,
     "metadata": {},
     "output_type": "execute_result"
    }
   ],
   "source": [
    "# describing the test data for the numerical columns\n",
    "test_data.describe().round().T"
   ]
  },
  {
   "cell_type": "code",
   "execution_count": 18,
   "id": "e80d7a32",
   "metadata": {},
   "outputs": [
    {
     "data": {
      "application/vnd.microsoft.datawrangler.viewer.v0+json": {
       "columns": [
        {
         "name": "index",
         "rawType": "int64",
         "type": "integer"
        },
        {
         "name": "PassengerId",
         "rawType": "object",
         "type": "string"
        },
        {
         "name": "HomePlanet",
         "rawType": "object",
         "type": "string"
        },
        {
         "name": "CryoSleep",
         "rawType": "object",
         "type": "unknown"
        },
        {
         "name": "Cabin",
         "rawType": "object",
         "type": "string"
        },
        {
         "name": "Destination",
         "rawType": "object",
         "type": "string"
        },
        {
         "name": "Age",
         "rawType": "float64",
         "type": "float"
        },
        {
         "name": "VIP",
         "rawType": "object",
         "type": "unknown"
        },
        {
         "name": "RoomService",
         "rawType": "float64",
         "type": "float"
        },
        {
         "name": "FoodCourt",
         "rawType": "float64",
         "type": "float"
        },
        {
         "name": "ShoppingMall",
         "rawType": "float64",
         "type": "float"
        },
        {
         "name": "Spa",
         "rawType": "float64",
         "type": "float"
        },
        {
         "name": "VRDeck",
         "rawType": "float64",
         "type": "float"
        },
        {
         "name": "Name",
         "rawType": "object",
         "type": "string"
        }
       ],
       "ref": "84946cce-ce38-4973-938d-a932467faab9",
       "rows": [
        [
         "0",
         "0013_01",
         "Earth",
         "True",
         "G/3/S",
         "TRAPPIST-1e",
         "27.0",
         "False",
         "0.0",
         "0.0",
         "0.0",
         "0.0",
         "0.0",
         "Nelly Carsoning"
        ],
        [
         "1",
         "0018_01",
         "Earth",
         "False",
         "F/4/S",
         "TRAPPIST-1e",
         "19.0",
         "False",
         "0.0",
         "9.0",
         "0.0",
         "2823.0",
         "0.0",
         "Lerome Peckers"
        ],
        [
         "2",
         "0019_01",
         "Europa",
         "True",
         "C/0/S",
         "55 Cancri e",
         "31.0",
         "False",
         "0.0",
         "0.0",
         "0.0",
         "0.0",
         "0.0",
         "Sabih Unhearfus"
        ],
        [
         "3",
         "0021_01",
         "Europa",
         "False",
         "C/1/S",
         "TRAPPIST-1e",
         "38.0",
         "False",
         "0.0",
         "6652.0",
         "0.0",
         "181.0",
         "585.0",
         "Meratz Caltilter"
        ],
        [
         "4",
         "0023_01",
         "Earth",
         "False",
         "F/5/S",
         "TRAPPIST-1e",
         "20.0",
         "False",
         "10.0",
         "0.0",
         "635.0",
         "0.0",
         "0.0",
         "Brence Harperez"
        ]
       ],
       "shape": {
        "columns": 13,
        "rows": 5
       }
      },
      "text/html": [
       "<div>\n",
       "<style scoped>\n",
       "    .dataframe tbody tr th:only-of-type {\n",
       "        vertical-align: middle;\n",
       "    }\n",
       "\n",
       "    .dataframe tbody tr th {\n",
       "        vertical-align: top;\n",
       "    }\n",
       "\n",
       "    .dataframe thead th {\n",
       "        text-align: right;\n",
       "    }\n",
       "</style>\n",
       "<table border=\"1\" class=\"dataframe\">\n",
       "  <thead>\n",
       "    <tr style=\"text-align: right;\">\n",
       "      <th></th>\n",
       "      <th>PassengerId</th>\n",
       "      <th>HomePlanet</th>\n",
       "      <th>CryoSleep</th>\n",
       "      <th>Cabin</th>\n",
       "      <th>Destination</th>\n",
       "      <th>Age</th>\n",
       "      <th>VIP</th>\n",
       "      <th>RoomService</th>\n",
       "      <th>FoodCourt</th>\n",
       "      <th>ShoppingMall</th>\n",
       "      <th>Spa</th>\n",
       "      <th>VRDeck</th>\n",
       "      <th>Name</th>\n",
       "    </tr>\n",
       "  </thead>\n",
       "  <tbody>\n",
       "    <tr>\n",
       "      <th>0</th>\n",
       "      <td>0013_01</td>\n",
       "      <td>Earth</td>\n",
       "      <td>True</td>\n",
       "      <td>G/3/S</td>\n",
       "      <td>TRAPPIST-1e</td>\n",
       "      <td>27.0</td>\n",
       "      <td>False</td>\n",
       "      <td>0.0</td>\n",
       "      <td>0.0</td>\n",
       "      <td>0.0</td>\n",
       "      <td>0.0</td>\n",
       "      <td>0.0</td>\n",
       "      <td>Nelly Carsoning</td>\n",
       "    </tr>\n",
       "    <tr>\n",
       "      <th>1</th>\n",
       "      <td>0018_01</td>\n",
       "      <td>Earth</td>\n",
       "      <td>False</td>\n",
       "      <td>F/4/S</td>\n",
       "      <td>TRAPPIST-1e</td>\n",
       "      <td>19.0</td>\n",
       "      <td>False</td>\n",
       "      <td>0.0</td>\n",
       "      <td>9.0</td>\n",
       "      <td>0.0</td>\n",
       "      <td>2823.0</td>\n",
       "      <td>0.0</td>\n",
       "      <td>Lerome Peckers</td>\n",
       "    </tr>\n",
       "    <tr>\n",
       "      <th>2</th>\n",
       "      <td>0019_01</td>\n",
       "      <td>Europa</td>\n",
       "      <td>True</td>\n",
       "      <td>C/0/S</td>\n",
       "      <td>55 Cancri e</td>\n",
       "      <td>31.0</td>\n",
       "      <td>False</td>\n",
       "      <td>0.0</td>\n",
       "      <td>0.0</td>\n",
       "      <td>0.0</td>\n",
       "      <td>0.0</td>\n",
       "      <td>0.0</td>\n",
       "      <td>Sabih Unhearfus</td>\n",
       "    </tr>\n",
       "    <tr>\n",
       "      <th>3</th>\n",
       "      <td>0021_01</td>\n",
       "      <td>Europa</td>\n",
       "      <td>False</td>\n",
       "      <td>C/1/S</td>\n",
       "      <td>TRAPPIST-1e</td>\n",
       "      <td>38.0</td>\n",
       "      <td>False</td>\n",
       "      <td>0.0</td>\n",
       "      <td>6652.0</td>\n",
       "      <td>0.0</td>\n",
       "      <td>181.0</td>\n",
       "      <td>585.0</td>\n",
       "      <td>Meratz Caltilter</td>\n",
       "    </tr>\n",
       "    <tr>\n",
       "      <th>4</th>\n",
       "      <td>0023_01</td>\n",
       "      <td>Earth</td>\n",
       "      <td>False</td>\n",
       "      <td>F/5/S</td>\n",
       "      <td>TRAPPIST-1e</td>\n",
       "      <td>20.0</td>\n",
       "      <td>False</td>\n",
       "      <td>10.0</td>\n",
       "      <td>0.0</td>\n",
       "      <td>635.0</td>\n",
       "      <td>0.0</td>\n",
       "      <td>0.0</td>\n",
       "      <td>Brence Harperez</td>\n",
       "    </tr>\n",
       "  </tbody>\n",
       "</table>\n",
       "</div>"
      ],
      "text/plain": [
       "  PassengerId HomePlanet CryoSleep  Cabin  Destination   Age    VIP  \\\n",
       "0     0013_01      Earth      True  G/3/S  TRAPPIST-1e  27.0  False   \n",
       "1     0018_01      Earth     False  F/4/S  TRAPPIST-1e  19.0  False   \n",
       "2     0019_01     Europa      True  C/0/S  55 Cancri e  31.0  False   \n",
       "3     0021_01     Europa     False  C/1/S  TRAPPIST-1e  38.0  False   \n",
       "4     0023_01      Earth     False  F/5/S  TRAPPIST-1e  20.0  False   \n",
       "\n",
       "   RoomService  FoodCourt  ShoppingMall     Spa  VRDeck              Name  \n",
       "0          0.0        0.0           0.0     0.0     0.0   Nelly Carsoning  \n",
       "1          0.0        9.0           0.0  2823.0     0.0    Lerome Peckers  \n",
       "2          0.0        0.0           0.0     0.0     0.0   Sabih Unhearfus  \n",
       "3          0.0     6652.0           0.0   181.0   585.0  Meratz Caltilter  \n",
       "4         10.0        0.0         635.0     0.0     0.0   Brence Harperez  "
      ]
     },
     "execution_count": 18,
     "metadata": {},
     "output_type": "execute_result"
    }
   ],
   "source": [
    "# looking at the data -- test\n",
    "test_data.head()"
   ]
  },
  {
   "cell_type": "code",
   "execution_count": 19,
   "id": "d8beadcb",
   "metadata": {},
   "outputs": [
    {
     "name": "stdout",
     "output_type": "stream",
     "text": [
      "              MissingCount  MissingPercentage\n",
      "PassengerId              0               0.00\n",
      "HomePlanet              87               2.03\n",
      "CryoSleep               93               2.17\n",
      "Cabin                  100               2.34\n",
      "Destination             92               2.15\n",
      "Age                     91               2.13\n",
      "VIP                     93               2.17\n",
      "RoomService             82               1.92\n",
      "FoodCourt              106               2.48\n",
      "ShoppingMall            98               2.29\n",
      "Spa                    101               2.36\n",
      "VRDeck                  80               1.87\n",
      "Name                    94               2.20\n"
     ]
    }
   ],
   "source": [
    "# looking at the missing values in test\n",
    "missing_data(test_data)"
   ]
  },
  {
   "cell_type": "markdown",
   "id": "58b34f52",
   "metadata": {},
   "source": [
    "### Exploratory Data Analysis"
   ]
  },
  {
   "cell_type": "markdown",
   "id": "74482a8a",
   "metadata": {},
   "source": [
    "#### Missing Values Visualisation"
   ]
  },
  {
   "cell_type": "markdown",
   "id": "81ec7517",
   "metadata": {},
   "source": [
    "##### Train Dataset"
   ]
  },
  {
   "cell_type": "code",
   "execution_count": 20,
   "id": "0479e181",
   "metadata": {},
   "outputs": [
    {
     "data": {
      "image/png": "[encoded data removed]",
      "text/plain": [
       "<Figure size 1000x600 with 1 Axes>"
      ]
     },
     "metadata": {},
     "output_type": "display_data"
    },
    {
     "name": "stdout",
     "output_type": "stream",
     "text": [
      "              MissingCount  MissingPercentage\n",
      "PassengerId              0               0.00\n",
      "HomePlanet             201               2.31\n",
      "CryoSleep              217               2.50\n",
      "Cabin                  199               2.29\n",
      "Destination            182               2.09\n",
      "Age                    179               2.06\n",
      "VIP                    203               2.34\n",
      "RoomService            181               2.08\n",
      "FoodCourt              183               2.11\n",
      "ShoppingMall           208               2.39\n",
      "Spa                    183               2.11\n",
      "VRDeck                 188               2.16\n",
      "Name                   200               2.30\n",
      "Transported              0               0.00\n"
     ]
    }
   ],
   "source": [
    "# missing values on train data\n",
    "missing_data(train_data, plot=True,\n",
    "             title=\"Number of Missing Values in Train Data\")"
   ]
  },
  {
   "cell_type": "code",
   "execution_count": 21,
   "id": "2121030f",
   "metadata": {},
   "outputs": [
    {
     "data": {
      "image/png": "[encoded data removed]",
      "text/plain": [
       "<Figure size 1200x800 with 2 Axes>"
      ]
     },
     "metadata": {},
     "output_type": "display_data"
    },
    {
     "data": {
      "image/png": "[encoded data removed]",
      "text/plain": [
       "<Figure size 1200x800 with 2 Axes>"
      ]
     },
     "metadata": {},
     "output_type": "display_data"
    },
    {
     "data": {
      "image/png": "[encoded data removed]",
      "text/plain": [
       "<Figure size 1200x800 with 1 Axes>"
      ]
     },
     "metadata": {},
     "output_type": "display_data"
    }
   ],
   "source": [
    "# visualising the missing data\n",
    "missing_data_visualisation(train_data)"
   ]
  },
  {
   "cell_type": "markdown",
   "id": "2c3e47b4",
   "metadata": {},
   "source": [
    "**Image-1: Matrix Visualisation of Missing Data in Training Set**\n",
    "- **Systematic missingness:** Several features show consistent missing data patterns across rows\n",
    "- Age appears to have substantial missing values\n",
    "- CryoSleep and Cabin also show notable gaps\n",
    "- The white lines indicate missing values, and their patterns suggest the missingness might not be completely random\n",
    "\n",
    "**Image-2: Nullity Correlation Heatmap Training Set**\n",
    "- Very weak correlations overall - most values appear close to 0 (light colors)\n",
    "- No strong positive or negative correlations between features\n",
    "- This suggests the features are largely independent, which could be good for modeling but might indicate limited predictive relationships\n",
    "- The uniform light coloring indicates need for feature engineering to create more meaningful relationships\n",
    "\n",
    "**Image-3: Dendrogram of Nullity Clusters for Training Set**\n",
    "- **Left cluster:** Transported, PassengerId, Age, Destination - possibly demographic/booking info\n",
    "- **Middle cluster:** FoodCourt, RoomService, Spa, VRDeck - clearly the amenity spending features\n",
    "- **Right cluster:** Cabin, Name, HomePlanet, VIP, ShoppingMall, CryoSleep - mixed passenger characteristics"
   ]
  },
  {
   "cell_type": "markdown",
   "id": "c95c5e04",
   "metadata": {},
   "source": [
    "##### Test Dataset"
   ]
  },
  {
   "cell_type": "code",
   "execution_count": 22,
   "id": "dfa18753",
   "metadata": {},
   "outputs": [
    {
     "data": {
      "image/png": "[encoded data removed]",
      "text/plain": [
       "<Figure size 1000x600 with 1 Axes>"
      ]
     },
     "metadata": {},
     "output_type": "display_data"
    },
    {
     "name": "stdout",
     "output_type": "stream",
     "text": [
      "              MissingCount  MissingPercentage\n",
      "PassengerId              0               0.00\n",
      "HomePlanet              87               2.03\n",
      "CryoSleep               93               2.17\n",
      "Cabin                  100               2.34\n",
      "Destination             92               2.15\n",
      "Age                     91               2.13\n",
      "VIP                     93               2.17\n",
      "RoomService             82               1.92\n",
      "FoodCourt              106               2.48\n",
      "ShoppingMall            98               2.29\n",
      "Spa                    101               2.36\n",
      "VRDeck                  80               1.87\n",
      "Name                    94               2.20\n"
     ]
    }
   ],
   "source": [
    "# missing values on train data\n",
    "missing_data(test_data, plot=True,\n",
    "             title=\"Number of Missing Values in Test Data\")"
   ]
  },
  {
   "cell_type": "code",
   "execution_count": 23,
   "id": "5ca860aa",
   "metadata": {},
   "outputs": [
    {
     "data": {
      "image/png": "[encoded data removed]",
      "text/plain": [
       "<Figure size 1200x800 with 2 Axes>"
      ]
     },
     "metadata": {},
     "output_type": "display_data"
    },
    {
     "data": {
      "image/png": "[encoded data removed]",
      "text/plain": [
       "<Figure size 1200x800 with 2 Axes>"
      ]
     },
     "metadata": {},
     "output_type": "display_data"
    },
    {
     "data": {
      "image/png": "[encoded data removed]",
      "text/plain": [
       "<Figure size 1200x800 with 1 Axes>"
      ]
     },
     "metadata": {},
     "output_type": "display_data"
    }
   ],
   "source": [
    "# visualising the missing data\n",
    "missing_data_visualisation(test_data, title=\"Testing\")"
   ]
  },
  {
   "cell_type": "markdown",
   "id": "53987d16",
   "metadata": {},
   "source": [
    "**Image-1: Matrix Visualisation of Missing Data in Testing Set**\n",
    "- Overall missing data distribution appears consistent\n",
    "- The missing data patterns in the test set closely mirror those in the training set, which is good for model generalization, meaning imputation strategies developed on training data should work well on test set.\n",
    "\n",
    "**Image-2: Nullity Correlation Heatmap Testing Set**\n",
    "- **Slightly stronger correlations visible:** The test set shows some slightly more pronounced relationships (though still weak overall)\n",
    "- VRDeck shows a visible correlation value (0.1) with Destination - which wasn't as apparent in the training set\n",
    "- Overall pattern consistency: The general weak correlation structure remains the same\n",
    "\n",
    "**Image-3: Dendrogram of Nullity Clusters for Testing Set**\n",
    "- **Different dendrogram structure:** The test set shows a completely different hierarchical clustering pattern\n",
    "- **New groupings emerge:**\n",
    "    - VRDeck now clusters separately at the left\n",
    "    - Passenger demographic features (PassengerId, RoomService, HomePlanet, Age, Destination, VIP) form a large middle cluster\n",
    "    - Amenity features (CryoSleep, Name, ShoppingMall, Spa, Cabin, FoodCourt) cluster on the right"
   ]
  },
  {
   "cell_type": "markdown",
   "id": "bbb547c6",
   "metadata": {},
   "source": [
    "NOTE: Models which can handle slight distribution shifts should be utilized for training, as the test and train data seems have different clustering patterns."
   ]
  },
  {
   "cell_type": "markdown",
   "id": "2a6528bf",
   "metadata": {},
   "source": [
    "#### Class Balance Analysis"
   ]
  },
  {
   "cell_type": "code",
   "execution_count": null,
   "id": "111bccf5",
   "metadata": {},
   "outputs": [
    {
     "data": {
      "image/png": "[encoded data removed]",
      "text/plain": [
       "<Figure size 500x500 with 1 Axes>"
      ]
     },
     "metadata": {},
     "output_type": "display_data"
    }
   ],
   "source": [
    "# Define plot style\n",
    "fig, ax = plt.subplots(figsize=(5, 5))\n",
    "colors = [\"#66b3ff\", \"#ff9999\"]\n",
    "\n",
    "# Plot pie chart\n",
    "train_data[\"Transported\"].value_counts().plot.pie(\n",
    "    explode=(0.1, 0.1),\n",
    "    autopct='%1.1f%%',\n",
    "    shadow=True,\n",
    "    startangle=140,\n",
    "    colors=colors,\n",
    "    textprops={\"fontsize\": 12},\n",
    "    ax=ax\n",
    ")  # type: ignore\n",
    "\n",
    "ax.set_ylabel(\"\")\n",
    "ax.set_title(\"Distribution of Transported Passengers\", fontsize=14)\n",
    "plt.tight_layout()\n",
    "plt.show()"
   ]
  },
  {
   "cell_type": "markdown",
   "id": "d3a965d6",
   "metadata": {},
   "source": [
    "- **Nearly perfect balance:**\n",
    "    - Transported -- True: 50.4%\n",
    "    - Transported -- False: 49.6%\n",
    "- Standard accuracy metrics are reliable - precisions, recall, and f1-score will be meaningful\n",
    "- Stable model training \n",
    "- Consistent cross-validation results - balanced spilt will maintain this distribution\n",
    "- **Evaluation Strategy:**\n",
    "    - Standard train/validation/test splits can be used without worrying about stratification\n",
    "    - ROC-AUC will be a particularly good metric given the balanced classes\n",
    "    - Confusion matrices will be easily interpretable"
   ]
  },
  {
   "cell_type": "markdown",
   "id": "de8da9d5",
   "metadata": {},
   "source": [
    "#### Finding Patterns within the Dataset"
   ]
  },
  {
   "cell_type": "markdown",
   "id": "d7ad1da1",
   "metadata": {},
   "source": [
    "### Handling Missing Values"
   ]
  },
  {
   "cell_type": "markdown",
   "id": "7ea4b431",
   "metadata": {},
   "source": [
    "### Precossing"
   ]
  },
  {
   "cell_type": "markdown",
   "id": "906865dc",
   "metadata": {},
   "source": [
    "### Training"
   ]
  }
 ],
 "metadata": {
  "kernelspec": {
   "display_name": "spaceship_titanic_venv (3.13.4)",
   "language": "python",
   "name": "python3"
  },
  "language_info": {
   "codemirror_mode": {
    "name": "ipython",
    "version": 3
   },
   "file_extension": ".py",
   "mimetype": "text/x-python",
   "name": "python",
   "nbconvert_exporter": "python",
   "pygments_lexer": "ipython3",
   "version": "3.13.4"
  }
 },
 "nbformat": 4,
 "nbformat_minor": 5
}
