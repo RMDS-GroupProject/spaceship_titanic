{
 "cells": [
  {
   "cell_type": "markdown",
   "id": "91133b85",
   "metadata": {},
   "source": [
    "\n",
    "    PassengerId - A unique Id for each passenger. Each Id takes the form gggg_pp where gggg indicates a group the passenger is travelling with and pp is their number within the group. People in a group are often family members, but not always.\n",
    "    HomePlanet - The planet the passenger departed from, typically their planet of permanent residence.\n",
    "    CryoSleep - Indicates whether the passenger elected to be put into suspended animation for the duration of the voyage. Passengers in cryosleep are confined to their cabins.\n",
    "    Cabin - The cabin number where the passenger is staying. Takes the form deck/num/side, where side can be either P for Port or S for Starboard.\n",
    "    Destination - The planet the passenger will be debarking to.\n",
    "    Age - The age of the passenger.\n",
    "    VIP - Whether the passenger has paid for special VIP service during the voyage.\n",
    "    RoomService, FoodCourt, ShoppingMall, Spa, VRDeck - Amount the passenger has billed at each of the Spaceship Titanic's many luxury amenities.\n",
    "    Name - The first and last names of the passenger.\n",
    "    Transported - Whether the passenger was transported to another dimension. This is the target, the column you are trying to predict."
   ]
  },
  {
   "cell_type": "code",
   "execution_count": 1,
   "id": "2c38486f",
   "metadata": {},
   "outputs": [],
   "source": [
    "import pandas as pd\n",
    "import numpy as np\n",
    "import matplotlib.pyplot as plt\n",
    "import seaborn as sns\n",
    "import missingno as msno"
   ]
  },
  {
   "cell_type": "code",
   "execution_count": 2,
   "id": "1b65eb30",
   "metadata": {},
   "outputs": [],
   "source": [
    "# setting style\n",
    "sns.set_style(\"darkgrid\")\n",
    "# setting context\n",
    "sns.set_context(\"paper\")\n",
    "# setting palette\n",
    "sns.set_palette(\"deep\", color_codes=True)"
   ]
  },
  {
   "cell_type": "code",
   "execution_count": 3,
   "id": "5c315dc1",
   "metadata": {},
   "outputs": [],
   "source": [
    "# reading the trian and test data\n",
    "train_data = pd.read_csv(\n",
    "    r\"D:\\MScDataScience\\9.Research_Methods\\Assignment\\Assignment3\\Spaceship_Titanic\\Data\\train.csv\")\n",
    "test_data = pd.read_csv(\n",
    "    r\"D:\\MScDataScience\\9.Research_Methods\\Assignment\\Assignment3\\Spaceship_Titanic\\Data\\test.csv\")"
   ]
  },
  {
   "cell_type": "code",
   "execution_count": 4,
   "id": "00a2b668",
   "metadata": {},
   "outputs": [
    {
     "name": "stdout",
     "output_type": "stream",
     "text": [
      "Train Data Shape:  (8693, 14)\n",
      "Test Data Shape:  (4277, 13)\n"
     ]
    }
   ],
   "source": [
    "# looking at the shape of the datas\n",
    "print(\"Train Data Shape: \", train_data.shape)\n",
    "print(\"Test Data Shape: \", test_data.shape)"
   ]
  },
  {
   "cell_type": "code",
   "execution_count": 5,
   "id": "97653962",
   "metadata": {},
   "outputs": [
    {
     "name": "stdout",
     "output_type": "stream",
     "text": [
      "<class 'pandas.core.frame.DataFrame'>\n",
      "RangeIndex: 8693 entries, 0 to 8692\n",
      "Data columns (total 14 columns):\n",
      " #   Column        Non-Null Count  Dtype  \n",
      "---  ------        --------------  -----  \n",
      " 0   PassengerId   8693 non-null   object \n",
      " 1   HomePlanet    8492 non-null   object \n",
      " 2   CryoSleep     8476 non-null   object \n",
      " 3   Cabin         8494 non-null   object \n",
      " 4   Destination   8511 non-null   object \n",
      " 5   Age           8514 non-null   float64\n",
      " 6   VIP           8490 non-null   object \n",
      " 7   RoomService   8512 non-null   float64\n",
      " 8   FoodCourt     8510 non-null   float64\n",
      " 9   ShoppingMall  8485 non-null   float64\n",
      " 10  Spa           8510 non-null   float64\n",
      " 11  VRDeck        8505 non-null   float64\n",
      " 12  Name          8493 non-null   object \n",
      " 13  Transported   8693 non-null   bool   \n",
      "dtypes: bool(1), float64(6), object(7)\n",
      "memory usage: 891.5+ KB\n"
     ]
    }
   ],
   "source": [
    "# column type information -- trian\n",
    "train_data.info()"
   ]
  },
  {
   "cell_type": "code",
   "execution_count": 6,
   "id": "628a9954",
   "metadata": {},
   "outputs": [
    {
     "name": "stdout",
     "output_type": "stream",
     "text": [
      "<class 'pandas.core.frame.DataFrame'>\n",
      "RangeIndex: 4277 entries, 0 to 4276\n",
      "Data columns (total 13 columns):\n",
      " #   Column        Non-Null Count  Dtype  \n",
      "---  ------        --------------  -----  \n",
      " 0   PassengerId   4277 non-null   object \n",
      " 1   HomePlanet    4190 non-null   object \n",
      " 2   CryoSleep     4184 non-null   object \n",
      " 3   Cabin         4177 non-null   object \n",
      " 4   Destination   4185 non-null   object \n",
      " 5   Age           4186 non-null   float64\n",
      " 6   VIP           4184 non-null   object \n",
      " 7   RoomService   4195 non-null   float64\n",
      " 8   FoodCourt     4171 non-null   float64\n",
      " 9   ShoppingMall  4179 non-null   float64\n",
      " 10  Spa           4176 non-null   float64\n",
      " 11  VRDeck        4197 non-null   float64\n",
      " 12  Name          4183 non-null   object \n",
      "dtypes: float64(6), object(7)\n",
      "memory usage: 434.5+ KB\n"
     ]
    }
   ],
   "source": [
    "# column type information -- test\n",
    "test_data.info()"
   ]
  },
  {
   "cell_type": "code",
   "execution_count": 7,
   "id": "bfbdf436",
   "metadata": {},
   "outputs": [
    {
     "data": {
      "application/vnd.microsoft.datawrangler.viewer.v0+json": {
       "columns": [
        {
         "name": "index",
         "rawType": "object",
         "type": "string"
        },
        {
         "name": "PassengerId",
         "rawType": "object",
         "type": "unknown"
        },
        {
         "name": "HomePlanet",
         "rawType": "object",
         "type": "unknown"
        },
        {
         "name": "CryoSleep",
         "rawType": "object",
         "type": "unknown"
        },
        {
         "name": "Cabin",
         "rawType": "object",
         "type": "unknown"
        },
        {
         "name": "Destination",
         "rawType": "object",
         "type": "unknown"
        },
        {
         "name": "Age",
         "rawType": "float64",
         "type": "float"
        },
        {
         "name": "VIP",
         "rawType": "object",
         "type": "unknown"
        },
        {
         "name": "RoomService",
         "rawType": "float64",
         "type": "float"
        },
        {
         "name": "FoodCourt",
         "rawType": "float64",
         "type": "float"
        },
        {
         "name": "ShoppingMall",
         "rawType": "float64",
         "type": "float"
        },
        {
         "name": "Spa",
         "rawType": "float64",
         "type": "float"
        },
        {
         "name": "VRDeck",
         "rawType": "float64",
         "type": "float"
        },
        {
         "name": "Name",
         "rawType": "object",
         "type": "unknown"
        },
        {
         "name": "Transported",
         "rawType": "object",
         "type": "unknown"
        }
       ],
       "ref": "cd3051a8-fd29-40b7-b203-d71b317ceddb",
       "rows": [
        [
         "count",
         "8693",
         "8492",
         "8476",
         "8494",
         "8511",
         "8514.0",
         "8490",
         "8512.0",
         "8510.0",
         "8485.0",
         "8510.0",
         "8505.0",
         "8493",
         "8693"
        ],
        [
         "unique",
         "8693",
         "3",
         "2",
         "6560",
         "3",
         null,
         "2",
         null,
         null,
         null,
         null,
         null,
         "8473",
         "2"
        ],
        [
         "top",
         "9280_02",
         "Earth",
         "False",
         "G/734/S",
         "TRAPPIST-1e",
         null,
         "False",
         null,
         null,
         null,
         null,
         null,
         "Anton Woody",
         "True"
        ],
        [
         "freq",
         "1",
         "4602",
         "5439",
         "8",
         "5915",
         null,
         "8291",
         null,
         null,
         null,
         null,
         null,
         "2",
         "4378"
        ],
        [
         "mean",
         null,
         null,
         null,
         null,
         null,
         "28.82793046746535",
         null,
         "224.687617481203",
         "458.07720329024676",
         "173.72916912197996",
         "311.1387779083431",
         "304.8547912992357",
         null,
         null
        ],
        [
         "std",
         null,
         null,
         null,
         null,
         null,
         "14.48902142390878",
         null,
         "666.7176629280652",
         "1611.4892403550716",
         "604.6964584708243",
         "1136.7055348344065",
         "1145.7171888056614",
         null,
         null
        ],
        [
         "min",
         null,
         null,
         null,
         null,
         null,
         "0.0",
         null,
         "0.0",
         "0.0",
         "0.0",
         "0.0",
         "0.0",
         null,
         null
        ],
        [
         "25%",
         null,
         null,
         null,
         null,
         null,
         "19.0",
         null,
         "0.0",
         "0.0",
         "0.0",
         "0.0",
         "0.0",
         null,
         null
        ],
        [
         "50%",
         null,
         null,
         null,
         null,
         null,
         "27.0",
         null,
         "0.0",
         "0.0",
         "0.0",
         "0.0",
         "0.0",
         null,
         null
        ],
        [
         "75%",
         null,
         null,
         null,
         null,
         null,
         "38.0",
         null,
         "47.0",
         "76.0",
         "27.0",
         "59.0",
         "46.0",
         null,
         null
        ],
        [
         "max",
         null,
         null,
         null,
         null,
         null,
         "79.0",
         null,
         "14327.0",
         "29813.0",
         "23492.0",
         "22408.0",
         "24133.0",
         null,
         null
        ]
       ],
       "shape": {
        "columns": 14,
        "rows": 11
       }
      },
      "text/html": [
       "<div>\n",
       "<style scoped>\n",
       "    .dataframe tbody tr th:only-of-type {\n",
       "        vertical-align: middle;\n",
       "    }\n",
       "\n",
       "    .dataframe tbody tr th {\n",
       "        vertical-align: top;\n",
       "    }\n",
       "\n",
       "    .dataframe thead th {\n",
       "        text-align: right;\n",
       "    }\n",
       "</style>\n",
       "<table border=\"1\" class=\"dataframe\">\n",
       "  <thead>\n",
       "    <tr style=\"text-align: right;\">\n",
       "      <th></th>\n",
       "      <th>PassengerId</th>\n",
       "      <th>HomePlanet</th>\n",
       "      <th>CryoSleep</th>\n",
       "      <th>Cabin</th>\n",
       "      <th>Destination</th>\n",
       "      <th>Age</th>\n",
       "      <th>VIP</th>\n",
       "      <th>RoomService</th>\n",
       "      <th>FoodCourt</th>\n",
       "      <th>ShoppingMall</th>\n",
       "      <th>Spa</th>\n",
       "      <th>VRDeck</th>\n",
       "      <th>Name</th>\n",
       "      <th>Transported</th>\n",
       "    </tr>\n",
       "  </thead>\n",
       "  <tbody>\n",
       "    <tr>\n",
       "      <th>count</th>\n",
       "      <td>8693</td>\n",
       "      <td>8492</td>\n",
       "      <td>8476</td>\n",
       "      <td>8494</td>\n",
       "      <td>8511</td>\n",
       "      <td>8514.000000</td>\n",
       "      <td>8490</td>\n",
       "      <td>8512.000000</td>\n",
       "      <td>8510.000000</td>\n",
       "      <td>8485.000000</td>\n",
       "      <td>8510.000000</td>\n",
       "      <td>8505.000000</td>\n",
       "      <td>8493</td>\n",
       "      <td>8693</td>\n",
       "    </tr>\n",
       "    <tr>\n",
       "      <th>unique</th>\n",
       "      <td>8693</td>\n",
       "      <td>3</td>\n",
       "      <td>2</td>\n",
       "      <td>6560</td>\n",
       "      <td>3</td>\n",
       "      <td>NaN</td>\n",
       "      <td>2</td>\n",
       "      <td>NaN</td>\n",
       "      <td>NaN</td>\n",
       "      <td>NaN</td>\n",
       "      <td>NaN</td>\n",
       "      <td>NaN</td>\n",
       "      <td>8473</td>\n",
       "      <td>2</td>\n",
       "    </tr>\n",
       "    <tr>\n",
       "      <th>top</th>\n",
       "      <td>9280_02</td>\n",
       "      <td>Earth</td>\n",
       "      <td>False</td>\n",
       "      <td>G/734/S</td>\n",
       "      <td>TRAPPIST-1e</td>\n",
       "      <td>NaN</td>\n",
       "      <td>False</td>\n",
       "      <td>NaN</td>\n",
       "      <td>NaN</td>\n",
       "      <td>NaN</td>\n",
       "      <td>NaN</td>\n",
       "      <td>NaN</td>\n",
       "      <td>Anton Woody</td>\n",
       "      <td>True</td>\n",
       "    </tr>\n",
       "    <tr>\n",
       "      <th>freq</th>\n",
       "      <td>1</td>\n",
       "      <td>4602</td>\n",
       "      <td>5439</td>\n",
       "      <td>8</td>\n",
       "      <td>5915</td>\n",
       "      <td>NaN</td>\n",
       "      <td>8291</td>\n",
       "      <td>NaN</td>\n",
       "      <td>NaN</td>\n",
       "      <td>NaN</td>\n",
       "      <td>NaN</td>\n",
       "      <td>NaN</td>\n",
       "      <td>2</td>\n",
       "      <td>4378</td>\n",
       "    </tr>\n",
       "    <tr>\n",
       "      <th>mean</th>\n",
       "      <td>NaN</td>\n",
       "      <td>NaN</td>\n",
       "      <td>NaN</td>\n",
       "      <td>NaN</td>\n",
       "      <td>NaN</td>\n",
       "      <td>28.827930</td>\n",
       "      <td>NaN</td>\n",
       "      <td>224.687617</td>\n",
       "      <td>458.077203</td>\n",
       "      <td>173.729169</td>\n",
       "      <td>311.138778</td>\n",
       "      <td>304.854791</td>\n",
       "      <td>NaN</td>\n",
       "      <td>NaN</td>\n",
       "    </tr>\n",
       "    <tr>\n",
       "      <th>std</th>\n",
       "      <td>NaN</td>\n",
       "      <td>NaN</td>\n",
       "      <td>NaN</td>\n",
       "      <td>NaN</td>\n",
       "      <td>NaN</td>\n",
       "      <td>14.489021</td>\n",
       "      <td>NaN</td>\n",
       "      <td>666.717663</td>\n",
       "      <td>1611.489240</td>\n",
       "      <td>604.696458</td>\n",
       "      <td>1136.705535</td>\n",
       "      <td>1145.717189</td>\n",
       "      <td>NaN</td>\n",
       "      <td>NaN</td>\n",
       "    </tr>\n",
       "    <tr>\n",
       "      <th>min</th>\n",
       "      <td>NaN</td>\n",
       "      <td>NaN</td>\n",
       "      <td>NaN</td>\n",
       "      <td>NaN</td>\n",
       "      <td>NaN</td>\n",
       "      <td>0.000000</td>\n",
       "      <td>NaN</td>\n",
       "      <td>0.000000</td>\n",
       "      <td>0.000000</td>\n",
       "      <td>0.000000</td>\n",
       "      <td>0.000000</td>\n",
       "      <td>0.000000</td>\n",
       "      <td>NaN</td>\n",
       "      <td>NaN</td>\n",
       "    </tr>\n",
       "    <tr>\n",
       "      <th>25%</th>\n",
       "      <td>NaN</td>\n",
       "      <td>NaN</td>\n",
       "      <td>NaN</td>\n",
       "      <td>NaN</td>\n",
       "      <td>NaN</td>\n",
       "      <td>19.000000</td>\n",
       "      <td>NaN</td>\n",
       "      <td>0.000000</td>\n",
       "      <td>0.000000</td>\n",
       "      <td>0.000000</td>\n",
       "      <td>0.000000</td>\n",
       "      <td>0.000000</td>\n",
       "      <td>NaN</td>\n",
       "      <td>NaN</td>\n",
       "    </tr>\n",
       "    <tr>\n",
       "      <th>50%</th>\n",
       "      <td>NaN</td>\n",
       "      <td>NaN</td>\n",
       "      <td>NaN</td>\n",
       "      <td>NaN</td>\n",
       "      <td>NaN</td>\n",
       "      <td>27.000000</td>\n",
       "      <td>NaN</td>\n",
       "      <td>0.000000</td>\n",
       "      <td>0.000000</td>\n",
       "      <td>0.000000</td>\n",
       "      <td>0.000000</td>\n",
       "      <td>0.000000</td>\n",
       "      <td>NaN</td>\n",
       "      <td>NaN</td>\n",
       "    </tr>\n",
       "    <tr>\n",
       "      <th>75%</th>\n",
       "      <td>NaN</td>\n",
       "      <td>NaN</td>\n",
       "      <td>NaN</td>\n",
       "      <td>NaN</td>\n",
       "      <td>NaN</td>\n",
       "      <td>38.000000</td>\n",
       "      <td>NaN</td>\n",
       "      <td>47.000000</td>\n",
       "      <td>76.000000</td>\n",
       "      <td>27.000000</td>\n",
       "      <td>59.000000</td>\n",
       "      <td>46.000000</td>\n",
       "      <td>NaN</td>\n",
       "      <td>NaN</td>\n",
       "    </tr>\n",
       "    <tr>\n",
       "      <th>max</th>\n",
       "      <td>NaN</td>\n",
       "      <td>NaN</td>\n",
       "      <td>NaN</td>\n",
       "      <td>NaN</td>\n",
       "      <td>NaN</td>\n",
       "      <td>79.000000</td>\n",
       "      <td>NaN</td>\n",
       "      <td>14327.000000</td>\n",
       "      <td>29813.000000</td>\n",
       "      <td>23492.000000</td>\n",
       "      <td>22408.000000</td>\n",
       "      <td>24133.000000</td>\n",
       "      <td>NaN</td>\n",
       "      <td>NaN</td>\n",
       "    </tr>\n",
       "  </tbody>\n",
       "</table>\n",
       "</div>"
      ],
      "text/plain": [
       "       PassengerId HomePlanet CryoSleep    Cabin  Destination          Age  \\\n",
       "count         8693       8492      8476     8494         8511  8514.000000   \n",
       "unique        8693          3         2     6560            3          NaN   \n",
       "top        9280_02      Earth     False  G/734/S  TRAPPIST-1e          NaN   \n",
       "freq             1       4602      5439        8         5915          NaN   \n",
       "mean           NaN        NaN       NaN      NaN          NaN    28.827930   \n",
       "std            NaN        NaN       NaN      NaN          NaN    14.489021   \n",
       "min            NaN        NaN       NaN      NaN          NaN     0.000000   \n",
       "25%            NaN        NaN       NaN      NaN          NaN    19.000000   \n",
       "50%            NaN        NaN       NaN      NaN          NaN    27.000000   \n",
       "75%            NaN        NaN       NaN      NaN          NaN    38.000000   \n",
       "max            NaN        NaN       NaN      NaN          NaN    79.000000   \n",
       "\n",
       "          VIP   RoomService     FoodCourt  ShoppingMall           Spa  \\\n",
       "count    8490   8512.000000   8510.000000   8485.000000   8510.000000   \n",
       "unique      2           NaN           NaN           NaN           NaN   \n",
       "top     False           NaN           NaN           NaN           NaN   \n",
       "freq     8291           NaN           NaN           NaN           NaN   \n",
       "mean      NaN    224.687617    458.077203    173.729169    311.138778   \n",
       "std       NaN    666.717663   1611.489240    604.696458   1136.705535   \n",
       "min       NaN      0.000000      0.000000      0.000000      0.000000   \n",
       "25%       NaN      0.000000      0.000000      0.000000      0.000000   \n",
       "50%       NaN      0.000000      0.000000      0.000000      0.000000   \n",
       "75%       NaN     47.000000     76.000000     27.000000     59.000000   \n",
       "max       NaN  14327.000000  29813.000000  23492.000000  22408.000000   \n",
       "\n",
       "              VRDeck         Name Transported  \n",
       "count    8505.000000         8493        8693  \n",
       "unique           NaN         8473           2  \n",
       "top              NaN  Anton Woody        True  \n",
       "freq             NaN            2        4378  \n",
       "mean      304.854791          NaN         NaN  \n",
       "std      1145.717189          NaN         NaN  \n",
       "min         0.000000          NaN         NaN  \n",
       "25%         0.000000          NaN         NaN  \n",
       "50%         0.000000          NaN         NaN  \n",
       "75%        46.000000          NaN         NaN  \n",
       "max     24133.000000          NaN         NaN  "
      ]
     },
     "execution_count": 7,
     "metadata": {},
     "output_type": "execute_result"
    }
   ],
   "source": [
    "# describing the train data for all the columns\n",
    "train_data.describe(include=\"all\")"
   ]
  },
  {
   "cell_type": "code",
   "execution_count": 8,
   "id": "65efe031",
   "metadata": {},
   "outputs": [
    {
     "data": {
      "application/vnd.microsoft.datawrangler.viewer.v0+json": {
       "columns": [
        {
         "name": "index",
         "rawType": "object",
         "type": "string"
        },
        {
         "name": "count",
         "rawType": "object",
         "type": "unknown"
        },
        {
         "name": "unique",
         "rawType": "object",
         "type": "unknown"
        },
        {
         "name": "top",
         "rawType": "object",
         "type": "unknown"
        },
        {
         "name": "freq",
         "rawType": "object",
         "type": "unknown"
        }
       ],
       "ref": "156ab3e2-ad5b-46ef-9875-6852d913fbea",
       "rows": [
        [
         "PassengerId",
         "8693",
         "8693",
         "9280_02",
         "1"
        ],
        [
         "HomePlanet",
         "8492",
         "3",
         "Earth",
         "4602"
        ],
        [
         "CryoSleep",
         "8476",
         "2",
         "False",
         "5439"
        ],
        [
         "Cabin",
         "8494",
         "6560",
         "G/734/S",
         "8"
        ],
        [
         "Destination",
         "8511",
         "3",
         "TRAPPIST-1e",
         "5915"
        ],
        [
         "VIP",
         "8490",
         "2",
         "False",
         "8291"
        ],
        [
         "Name",
         "8493",
         "8473",
         "Anton Woody",
         "2"
        ]
       ],
       "shape": {
        "columns": 4,
        "rows": 7
       }
      },
      "text/html": [
       "<div>\n",
       "<style scoped>\n",
       "    .dataframe tbody tr th:only-of-type {\n",
       "        vertical-align: middle;\n",
       "    }\n",
       "\n",
       "    .dataframe tbody tr th {\n",
       "        vertical-align: top;\n",
       "    }\n",
       "\n",
       "    .dataframe thead th {\n",
       "        text-align: right;\n",
       "    }\n",
       "</style>\n",
       "<table border=\"1\" class=\"dataframe\">\n",
       "  <thead>\n",
       "    <tr style=\"text-align: right;\">\n",
       "      <th></th>\n",
       "      <th>count</th>\n",
       "      <th>unique</th>\n",
       "      <th>top</th>\n",
       "      <th>freq</th>\n",
       "    </tr>\n",
       "  </thead>\n",
       "  <tbody>\n",
       "    <tr>\n",
       "      <th>PassengerId</th>\n",
       "      <td>8693</td>\n",
       "      <td>8693</td>\n",
       "      <td>9280_02</td>\n",
       "      <td>1</td>\n",
       "    </tr>\n",
       "    <tr>\n",
       "      <th>HomePlanet</th>\n",
       "      <td>8492</td>\n",
       "      <td>3</td>\n",
       "      <td>Earth</td>\n",
       "      <td>4602</td>\n",
       "    </tr>\n",
       "    <tr>\n",
       "      <th>CryoSleep</th>\n",
       "      <td>8476</td>\n",
       "      <td>2</td>\n",
       "      <td>False</td>\n",
       "      <td>5439</td>\n",
       "    </tr>\n",
       "    <tr>\n",
       "      <th>Cabin</th>\n",
       "      <td>8494</td>\n",
       "      <td>6560</td>\n",
       "      <td>G/734/S</td>\n",
       "      <td>8</td>\n",
       "    </tr>\n",
       "    <tr>\n",
       "      <th>Destination</th>\n",
       "      <td>8511</td>\n",
       "      <td>3</td>\n",
       "      <td>TRAPPIST-1e</td>\n",
       "      <td>5915</td>\n",
       "    </tr>\n",
       "    <tr>\n",
       "      <th>VIP</th>\n",
       "      <td>8490</td>\n",
       "      <td>2</td>\n",
       "      <td>False</td>\n",
       "      <td>8291</td>\n",
       "    </tr>\n",
       "    <tr>\n",
       "      <th>Name</th>\n",
       "      <td>8493</td>\n",
       "      <td>8473</td>\n",
       "      <td>Anton Woody</td>\n",
       "      <td>2</td>\n",
       "    </tr>\n",
       "  </tbody>\n",
       "</table>\n",
       "</div>"
      ],
      "text/plain": [
       "            count unique          top  freq\n",
       "PassengerId  8693   8693      9280_02     1\n",
       "HomePlanet   8492      3        Earth  4602\n",
       "CryoSleep    8476      2        False  5439\n",
       "Cabin        8494   6560      G/734/S     8\n",
       "Destination  8511      3  TRAPPIST-1e  5915\n",
       "VIP          8490      2        False  8291\n",
       "Name         8493   8473  Anton Woody     2"
      ]
     },
     "execution_count": 8,
     "metadata": {},
     "output_type": "execute_result"
    }
   ],
   "source": [
    "# describing the train data for the object columns\n",
    "train_data.describe(include=\"object\").round().T"
   ]
  },
  {
   "cell_type": "code",
   "execution_count": 9,
   "id": "51561d49",
   "metadata": {},
   "outputs": [
    {
     "data": {
      "application/vnd.microsoft.datawrangler.viewer.v0+json": {
       "columns": [
        {
         "name": "index",
         "rawType": "object",
         "type": "string"
        },
        {
         "name": "count",
         "rawType": "float64",
         "type": "float"
        },
        {
         "name": "mean",
         "rawType": "float64",
         "type": "float"
        },
        {
         "name": "std",
         "rawType": "float64",
         "type": "float"
        },
        {
         "name": "min",
         "rawType": "float64",
         "type": "float"
        },
        {
         "name": "25%",
         "rawType": "float64",
         "type": "float"
        },
        {
         "name": "50%",
         "rawType": "float64",
         "type": "float"
        },
        {
         "name": "75%",
         "rawType": "float64",
         "type": "float"
        },
        {
         "name": "max",
         "rawType": "float64",
         "type": "float"
        }
       ],
       "ref": "f86fbc88-7e54-4910-9a85-2285b129704b",
       "rows": [
        [
         "Age",
         "8514.0",
         "29.0",
         "14.0",
         "0.0",
         "19.0",
         "27.0",
         "38.0",
         "79.0"
        ],
        [
         "RoomService",
         "8512.0",
         "225.0",
         "667.0",
         "0.0",
         "0.0",
         "0.0",
         "47.0",
         "14327.0"
        ],
        [
         "FoodCourt",
         "8510.0",
         "458.0",
         "1611.0",
         "0.0",
         "0.0",
         "0.0",
         "76.0",
         "29813.0"
        ],
        [
         "ShoppingMall",
         "8485.0",
         "174.0",
         "605.0",
         "0.0",
         "0.0",
         "0.0",
         "27.0",
         "23492.0"
        ],
        [
         "Spa",
         "8510.0",
         "311.0",
         "1137.0",
         "0.0",
         "0.0",
         "0.0",
         "59.0",
         "22408.0"
        ],
        [
         "VRDeck",
         "8505.0",
         "305.0",
         "1146.0",
         "0.0",
         "0.0",
         "0.0",
         "46.0",
         "24133.0"
        ]
       ],
       "shape": {
        "columns": 8,
        "rows": 6
       }
      },
      "text/html": [
       "<div>\n",
       "<style scoped>\n",
       "    .dataframe tbody tr th:only-of-type {\n",
       "        vertical-align: middle;\n",
       "    }\n",
       "\n",
       "    .dataframe tbody tr th {\n",
       "        vertical-align: top;\n",
       "    }\n",
       "\n",
       "    .dataframe thead th {\n",
       "        text-align: right;\n",
       "    }\n",
       "</style>\n",
       "<table border=\"1\" class=\"dataframe\">\n",
       "  <thead>\n",
       "    <tr style=\"text-align: right;\">\n",
       "      <th></th>\n",
       "      <th>count</th>\n",
       "      <th>mean</th>\n",
       "      <th>std</th>\n",
       "      <th>min</th>\n",
       "      <th>25%</th>\n",
       "      <th>50%</th>\n",
       "      <th>75%</th>\n",
       "      <th>max</th>\n",
       "    </tr>\n",
       "  </thead>\n",
       "  <tbody>\n",
       "    <tr>\n",
       "      <th>Age</th>\n",
       "      <td>8514.0</td>\n",
       "      <td>29.0</td>\n",
       "      <td>14.0</td>\n",
       "      <td>0.0</td>\n",
       "      <td>19.0</td>\n",
       "      <td>27.0</td>\n",
       "      <td>38.0</td>\n",
       "      <td>79.0</td>\n",
       "    </tr>\n",
       "    <tr>\n",
       "      <th>RoomService</th>\n",
       "      <td>8512.0</td>\n",
       "      <td>225.0</td>\n",
       "      <td>667.0</td>\n",
       "      <td>0.0</td>\n",
       "      <td>0.0</td>\n",
       "      <td>0.0</td>\n",
       "      <td>47.0</td>\n",
       "      <td>14327.0</td>\n",
       "    </tr>\n",
       "    <tr>\n",
       "      <th>FoodCourt</th>\n",
       "      <td>8510.0</td>\n",
       "      <td>458.0</td>\n",
       "      <td>1611.0</td>\n",
       "      <td>0.0</td>\n",
       "      <td>0.0</td>\n",
       "      <td>0.0</td>\n",
       "      <td>76.0</td>\n",
       "      <td>29813.0</td>\n",
       "    </tr>\n",
       "    <tr>\n",
       "      <th>ShoppingMall</th>\n",
       "      <td>8485.0</td>\n",
       "      <td>174.0</td>\n",
       "      <td>605.0</td>\n",
       "      <td>0.0</td>\n",
       "      <td>0.0</td>\n",
       "      <td>0.0</td>\n",
       "      <td>27.0</td>\n",
       "      <td>23492.0</td>\n",
       "    </tr>\n",
       "    <tr>\n",
       "      <th>Spa</th>\n",
       "      <td>8510.0</td>\n",
       "      <td>311.0</td>\n",
       "      <td>1137.0</td>\n",
       "      <td>0.0</td>\n",
       "      <td>0.0</td>\n",
       "      <td>0.0</td>\n",
       "      <td>59.0</td>\n",
       "      <td>22408.0</td>\n",
       "    </tr>\n",
       "    <tr>\n",
       "      <th>VRDeck</th>\n",
       "      <td>8505.0</td>\n",
       "      <td>305.0</td>\n",
       "      <td>1146.0</td>\n",
       "      <td>0.0</td>\n",
       "      <td>0.0</td>\n",
       "      <td>0.0</td>\n",
       "      <td>46.0</td>\n",
       "      <td>24133.0</td>\n",
       "    </tr>\n",
       "  </tbody>\n",
       "</table>\n",
       "</div>"
      ],
      "text/plain": [
       "               count   mean     std  min   25%   50%   75%      max\n",
       "Age           8514.0   29.0    14.0  0.0  19.0  27.0  38.0     79.0\n",
       "RoomService   8512.0  225.0   667.0  0.0   0.0   0.0  47.0  14327.0\n",
       "FoodCourt     8510.0  458.0  1611.0  0.0   0.0   0.0  76.0  29813.0\n",
       "ShoppingMall  8485.0  174.0   605.0  0.0   0.0   0.0  27.0  23492.0\n",
       "Spa           8510.0  311.0  1137.0  0.0   0.0   0.0  59.0  22408.0\n",
       "VRDeck        8505.0  305.0  1146.0  0.0   0.0   0.0  46.0  24133.0"
      ]
     },
     "execution_count": 9,
     "metadata": {},
     "output_type": "execute_result"
    }
   ],
   "source": [
    "# describing the train data for the numerical columns\n",
    "train_data.describe().round().T"
   ]
  },
  {
   "cell_type": "code",
   "execution_count": 10,
   "id": "15d93ce2",
   "metadata": {},
   "outputs": [
    {
     "data": {
      "application/vnd.microsoft.datawrangler.viewer.v0+json": {
       "columns": [
        {
         "name": "index",
         "rawType": "object",
         "type": "string"
        },
        {
         "name": "PassengerId",
         "rawType": "object",
         "type": "unknown"
        },
        {
         "name": "HomePlanet",
         "rawType": "object",
         "type": "unknown"
        },
        {
         "name": "CryoSleep",
         "rawType": "object",
         "type": "unknown"
        },
        {
         "name": "Cabin",
         "rawType": "object",
         "type": "unknown"
        },
        {
         "name": "Destination",
         "rawType": "object",
         "type": "unknown"
        },
        {
         "name": "Age",
         "rawType": "float64",
         "type": "float"
        },
        {
         "name": "VIP",
         "rawType": "object",
         "type": "unknown"
        },
        {
         "name": "RoomService",
         "rawType": "float64",
         "type": "float"
        },
        {
         "name": "FoodCourt",
         "rawType": "float64",
         "type": "float"
        },
        {
         "name": "ShoppingMall",
         "rawType": "float64",
         "type": "float"
        },
        {
         "name": "Spa",
         "rawType": "float64",
         "type": "float"
        },
        {
         "name": "VRDeck",
         "rawType": "float64",
         "type": "float"
        },
        {
         "name": "Name",
         "rawType": "object",
         "type": "unknown"
        }
       ],
       "ref": "5e635628-b2c6-4a13-8b99-23d39549416e",
       "rows": [
        [
         "count",
         "4277",
         "4190",
         "4184",
         "4177",
         "4185",
         "4186.0",
         "4184",
         "4195.0",
         "4171.0",
         "4179.0",
         "4176.0",
         "4197.0",
         "4183"
        ],
        [
         "unique",
         "4277",
         "3",
         "2",
         "3265",
         "3",
         null,
         "2",
         null,
         null,
         null,
         null,
         null,
         "4176"
        ],
        [
         "top",
         "9277_01",
         "Earth",
         "False",
         "G/160/P",
         "TRAPPIST-1e",
         null,
         "False",
         null,
         null,
         null,
         null,
         null,
         "Lyney Sellahaney"
        ],
        [
         "freq",
         "1",
         "2263",
         "2640",
         "8",
         "2956",
         null,
         "4110",
         null,
         null,
         null,
         null,
         null,
         "2"
        ],
        [
         "mean",
         null,
         null,
         null,
         null,
         null,
         "28.65814620162446",
         null,
         "219.26626936829558",
         "439.4842963318149",
         "177.29552524527398",
         "303.05244252873564",
         "310.71003097450557",
         null
        ],
        [
         "std",
         null,
         null,
         null,
         null,
         null,
         "14.179071585227373",
         null,
         "607.0112887875921",
         "1527.6630449251804",
         "560.8211231958651",
         "1117.1860149409592",
         "1246.9947416212326",
         null
        ],
        [
         "min",
         null,
         null,
         null,
         null,
         null,
         "0.0",
         null,
         "0.0",
         "0.0",
         "0.0",
         "0.0",
         "0.0",
         null
        ],
        [
         "25%",
         null,
         null,
         null,
         null,
         null,
         "19.0",
         null,
         "0.0",
         "0.0",
         "0.0",
         "0.0",
         "0.0",
         null
        ],
        [
         "50%",
         null,
         null,
         null,
         null,
         null,
         "26.0",
         null,
         "0.0",
         "0.0",
         "0.0",
         "0.0",
         "0.0",
         null
        ],
        [
         "75%",
         null,
         null,
         null,
         null,
         null,
         "37.0",
         null,
         "53.0",
         "78.0",
         "33.0",
         "50.0",
         "36.0",
         null
        ],
        [
         "max",
         null,
         null,
         null,
         null,
         null,
         "79.0",
         null,
         "11567.0",
         "25273.0",
         "8292.0",
         "19844.0",
         "22272.0",
         null
        ]
       ],
       "shape": {
        "columns": 13,
        "rows": 11
       }
      },
      "text/html": [
       "<div>\n",
       "<style scoped>\n",
       "    .dataframe tbody tr th:only-of-type {\n",
       "        vertical-align: middle;\n",
       "    }\n",
       "\n",
       "    .dataframe tbody tr th {\n",
       "        vertical-align: top;\n",
       "    }\n",
       "\n",
       "    .dataframe thead th {\n",
       "        text-align: right;\n",
       "    }\n",
       "</style>\n",
       "<table border=\"1\" class=\"dataframe\">\n",
       "  <thead>\n",
       "    <tr style=\"text-align: right;\">\n",
       "      <th></th>\n",
       "      <th>PassengerId</th>\n",
       "      <th>HomePlanet</th>\n",
       "      <th>CryoSleep</th>\n",
       "      <th>Cabin</th>\n",
       "      <th>Destination</th>\n",
       "      <th>Age</th>\n",
       "      <th>VIP</th>\n",
       "      <th>RoomService</th>\n",
       "      <th>FoodCourt</th>\n",
       "      <th>ShoppingMall</th>\n",
       "      <th>Spa</th>\n",
       "      <th>VRDeck</th>\n",
       "      <th>Name</th>\n",
       "    </tr>\n",
       "  </thead>\n",
       "  <tbody>\n",
       "    <tr>\n",
       "      <th>count</th>\n",
       "      <td>4277</td>\n",
       "      <td>4190</td>\n",
       "      <td>4184</td>\n",
       "      <td>4177</td>\n",
       "      <td>4185</td>\n",
       "      <td>4186.000000</td>\n",
       "      <td>4184</td>\n",
       "      <td>4195.000000</td>\n",
       "      <td>4171.000000</td>\n",
       "      <td>4179.000000</td>\n",
       "      <td>4176.000000</td>\n",
       "      <td>4197.000000</td>\n",
       "      <td>4183</td>\n",
       "    </tr>\n",
       "    <tr>\n",
       "      <th>unique</th>\n",
       "      <td>4277</td>\n",
       "      <td>3</td>\n",
       "      <td>2</td>\n",
       "      <td>3265</td>\n",
       "      <td>3</td>\n",
       "      <td>NaN</td>\n",
       "      <td>2</td>\n",
       "      <td>NaN</td>\n",
       "      <td>NaN</td>\n",
       "      <td>NaN</td>\n",
       "      <td>NaN</td>\n",
       "      <td>NaN</td>\n",
       "      <td>4176</td>\n",
       "    </tr>\n",
       "    <tr>\n",
       "      <th>top</th>\n",
       "      <td>9277_01</td>\n",
       "      <td>Earth</td>\n",
       "      <td>False</td>\n",
       "      <td>G/160/P</td>\n",
       "      <td>TRAPPIST-1e</td>\n",
       "      <td>NaN</td>\n",
       "      <td>False</td>\n",
       "      <td>NaN</td>\n",
       "      <td>NaN</td>\n",
       "      <td>NaN</td>\n",
       "      <td>NaN</td>\n",
       "      <td>NaN</td>\n",
       "      <td>Lyney Sellahaney</td>\n",
       "    </tr>\n",
       "    <tr>\n",
       "      <th>freq</th>\n",
       "      <td>1</td>\n",
       "      <td>2263</td>\n",
       "      <td>2640</td>\n",
       "      <td>8</td>\n",
       "      <td>2956</td>\n",
       "      <td>NaN</td>\n",
       "      <td>4110</td>\n",
       "      <td>NaN</td>\n",
       "      <td>NaN</td>\n",
       "      <td>NaN</td>\n",
       "      <td>NaN</td>\n",
       "      <td>NaN</td>\n",
       "      <td>2</td>\n",
       "    </tr>\n",
       "    <tr>\n",
       "      <th>mean</th>\n",
       "      <td>NaN</td>\n",
       "      <td>NaN</td>\n",
       "      <td>NaN</td>\n",
       "      <td>NaN</td>\n",
       "      <td>NaN</td>\n",
       "      <td>28.658146</td>\n",
       "      <td>NaN</td>\n",
       "      <td>219.266269</td>\n",
       "      <td>439.484296</td>\n",
       "      <td>177.295525</td>\n",
       "      <td>303.052443</td>\n",
       "      <td>310.710031</td>\n",
       "      <td>NaN</td>\n",
       "    </tr>\n",
       "    <tr>\n",
       "      <th>std</th>\n",
       "      <td>NaN</td>\n",
       "      <td>NaN</td>\n",
       "      <td>NaN</td>\n",
       "      <td>NaN</td>\n",
       "      <td>NaN</td>\n",
       "      <td>14.179072</td>\n",
       "      <td>NaN</td>\n",
       "      <td>607.011289</td>\n",
       "      <td>1527.663045</td>\n",
       "      <td>560.821123</td>\n",
       "      <td>1117.186015</td>\n",
       "      <td>1246.994742</td>\n",
       "      <td>NaN</td>\n",
       "    </tr>\n",
       "    <tr>\n",
       "      <th>min</th>\n",
       "      <td>NaN</td>\n",
       "      <td>NaN</td>\n",
       "      <td>NaN</td>\n",
       "      <td>NaN</td>\n",
       "      <td>NaN</td>\n",
       "      <td>0.000000</td>\n",
       "      <td>NaN</td>\n",
       "      <td>0.000000</td>\n",
       "      <td>0.000000</td>\n",
       "      <td>0.000000</td>\n",
       "      <td>0.000000</td>\n",
       "      <td>0.000000</td>\n",
       "      <td>NaN</td>\n",
       "    </tr>\n",
       "    <tr>\n",
       "      <th>25%</th>\n",
       "      <td>NaN</td>\n",
       "      <td>NaN</td>\n",
       "      <td>NaN</td>\n",
       "      <td>NaN</td>\n",
       "      <td>NaN</td>\n",
       "      <td>19.000000</td>\n",
       "      <td>NaN</td>\n",
       "      <td>0.000000</td>\n",
       "      <td>0.000000</td>\n",
       "      <td>0.000000</td>\n",
       "      <td>0.000000</td>\n",
       "      <td>0.000000</td>\n",
       "      <td>NaN</td>\n",
       "    </tr>\n",
       "    <tr>\n",
       "      <th>50%</th>\n",
       "      <td>NaN</td>\n",
       "      <td>NaN</td>\n",
       "      <td>NaN</td>\n",
       "      <td>NaN</td>\n",
       "      <td>NaN</td>\n",
       "      <td>26.000000</td>\n",
       "      <td>NaN</td>\n",
       "      <td>0.000000</td>\n",
       "      <td>0.000000</td>\n",
       "      <td>0.000000</td>\n",
       "      <td>0.000000</td>\n",
       "      <td>0.000000</td>\n",
       "      <td>NaN</td>\n",
       "    </tr>\n",
       "    <tr>\n",
       "      <th>75%</th>\n",
       "      <td>NaN</td>\n",
       "      <td>NaN</td>\n",
       "      <td>NaN</td>\n",
       "      <td>NaN</td>\n",
       "      <td>NaN</td>\n",
       "      <td>37.000000</td>\n",
       "      <td>NaN</td>\n",
       "      <td>53.000000</td>\n",
       "      <td>78.000000</td>\n",
       "      <td>33.000000</td>\n",
       "      <td>50.000000</td>\n",
       "      <td>36.000000</td>\n",
       "      <td>NaN</td>\n",
       "    </tr>\n",
       "    <tr>\n",
       "      <th>max</th>\n",
       "      <td>NaN</td>\n",
       "      <td>NaN</td>\n",
       "      <td>NaN</td>\n",
       "      <td>NaN</td>\n",
       "      <td>NaN</td>\n",
       "      <td>79.000000</td>\n",
       "      <td>NaN</td>\n",
       "      <td>11567.000000</td>\n",
       "      <td>25273.000000</td>\n",
       "      <td>8292.000000</td>\n",
       "      <td>19844.000000</td>\n",
       "      <td>22272.000000</td>\n",
       "      <td>NaN</td>\n",
       "    </tr>\n",
       "  </tbody>\n",
       "</table>\n",
       "</div>"
      ],
      "text/plain": [
       "       PassengerId HomePlanet CryoSleep    Cabin  Destination          Age  \\\n",
       "count         4277       4190      4184     4177         4185  4186.000000   \n",
       "unique        4277          3         2     3265            3          NaN   \n",
       "top        9277_01      Earth     False  G/160/P  TRAPPIST-1e          NaN   \n",
       "freq             1       2263      2640        8         2956          NaN   \n",
       "mean           NaN        NaN       NaN      NaN          NaN    28.658146   \n",
       "std            NaN        NaN       NaN      NaN          NaN    14.179072   \n",
       "min            NaN        NaN       NaN      NaN          NaN     0.000000   \n",
       "25%            NaN        NaN       NaN      NaN          NaN    19.000000   \n",
       "50%            NaN        NaN       NaN      NaN          NaN    26.000000   \n",
       "75%            NaN        NaN       NaN      NaN          NaN    37.000000   \n",
       "max            NaN        NaN       NaN      NaN          NaN    79.000000   \n",
       "\n",
       "          VIP   RoomService     FoodCourt  ShoppingMall           Spa  \\\n",
       "count    4184   4195.000000   4171.000000   4179.000000   4176.000000   \n",
       "unique      2           NaN           NaN           NaN           NaN   \n",
       "top     False           NaN           NaN           NaN           NaN   \n",
       "freq     4110           NaN           NaN           NaN           NaN   \n",
       "mean      NaN    219.266269    439.484296    177.295525    303.052443   \n",
       "std       NaN    607.011289   1527.663045    560.821123   1117.186015   \n",
       "min       NaN      0.000000      0.000000      0.000000      0.000000   \n",
       "25%       NaN      0.000000      0.000000      0.000000      0.000000   \n",
       "50%       NaN      0.000000      0.000000      0.000000      0.000000   \n",
       "75%       NaN     53.000000     78.000000     33.000000     50.000000   \n",
       "max       NaN  11567.000000  25273.000000   8292.000000  19844.000000   \n",
       "\n",
       "              VRDeck              Name  \n",
       "count    4197.000000              4183  \n",
       "unique           NaN              4176  \n",
       "top              NaN  Lyney Sellahaney  \n",
       "freq             NaN                 2  \n",
       "mean      310.710031               NaN  \n",
       "std      1246.994742               NaN  \n",
       "min         0.000000               NaN  \n",
       "25%         0.000000               NaN  \n",
       "50%         0.000000               NaN  \n",
       "75%        36.000000               NaN  \n",
       "max     22272.000000               NaN  "
      ]
     },
     "execution_count": 10,
     "metadata": {},
     "output_type": "execute_result"
    }
   ],
   "source": [
    "# describing the train data for all the columns\n",
    "test_data.describe(include=\"all\")"
   ]
  },
  {
   "cell_type": "code",
   "execution_count": 11,
   "id": "7a9d4679",
   "metadata": {},
   "outputs": [
    {
     "data": {
      "application/vnd.microsoft.datawrangler.viewer.v0+json": {
       "columns": [
        {
         "name": "index",
         "rawType": "object",
         "type": "string"
        },
        {
         "name": "count",
         "rawType": "object",
         "type": "unknown"
        },
        {
         "name": "unique",
         "rawType": "object",
         "type": "unknown"
        },
        {
         "name": "top",
         "rawType": "object",
         "type": "unknown"
        },
        {
         "name": "freq",
         "rawType": "object",
         "type": "unknown"
        }
       ],
       "ref": "e0ed6a5c-ff73-437f-9539-2a1b278012d5",
       "rows": [
        [
         "PassengerId",
         "4277",
         "4277",
         "9277_01",
         "1"
        ],
        [
         "HomePlanet",
         "4190",
         "3",
         "Earth",
         "2263"
        ],
        [
         "CryoSleep",
         "4184",
         "2",
         "False",
         "2640"
        ],
        [
         "Cabin",
         "4177",
         "3265",
         "G/160/P",
         "8"
        ],
        [
         "Destination",
         "4185",
         "3",
         "TRAPPIST-1e",
         "2956"
        ],
        [
         "VIP",
         "4184",
         "2",
         "False",
         "4110"
        ],
        [
         "Name",
         "4183",
         "4176",
         "Lyney Sellahaney",
         "2"
        ]
       ],
       "shape": {
        "columns": 4,
        "rows": 7
       }
      },
      "text/html": [
       "<div>\n",
       "<style scoped>\n",
       "    .dataframe tbody tr th:only-of-type {\n",
       "        vertical-align: middle;\n",
       "    }\n",
       "\n",
       "    .dataframe tbody tr th {\n",
       "        vertical-align: top;\n",
       "    }\n",
       "\n",
       "    .dataframe thead th {\n",
       "        text-align: right;\n",
       "    }\n",
       "</style>\n",
       "<table border=\"1\" class=\"dataframe\">\n",
       "  <thead>\n",
       "    <tr style=\"text-align: right;\">\n",
       "      <th></th>\n",
       "      <th>count</th>\n",
       "      <th>unique</th>\n",
       "      <th>top</th>\n",
       "      <th>freq</th>\n",
       "    </tr>\n",
       "  </thead>\n",
       "  <tbody>\n",
       "    <tr>\n",
       "      <th>PassengerId</th>\n",
       "      <td>4277</td>\n",
       "      <td>4277</td>\n",
       "      <td>9277_01</td>\n",
       "      <td>1</td>\n",
       "    </tr>\n",
       "    <tr>\n",
       "      <th>HomePlanet</th>\n",
       "      <td>4190</td>\n",
       "      <td>3</td>\n",
       "      <td>Earth</td>\n",
       "      <td>2263</td>\n",
       "    </tr>\n",
       "    <tr>\n",
       "      <th>CryoSleep</th>\n",
       "      <td>4184</td>\n",
       "      <td>2</td>\n",
       "      <td>False</td>\n",
       "      <td>2640</td>\n",
       "    </tr>\n",
       "    <tr>\n",
       "      <th>Cabin</th>\n",
       "      <td>4177</td>\n",
       "      <td>3265</td>\n",
       "      <td>G/160/P</td>\n",
       "      <td>8</td>\n",
       "    </tr>\n",
       "    <tr>\n",
       "      <th>Destination</th>\n",
       "      <td>4185</td>\n",
       "      <td>3</td>\n",
       "      <td>TRAPPIST-1e</td>\n",
       "      <td>2956</td>\n",
       "    </tr>\n",
       "    <tr>\n",
       "      <th>VIP</th>\n",
       "      <td>4184</td>\n",
       "      <td>2</td>\n",
       "      <td>False</td>\n",
       "      <td>4110</td>\n",
       "    </tr>\n",
       "    <tr>\n",
       "      <th>Name</th>\n",
       "      <td>4183</td>\n",
       "      <td>4176</td>\n",
       "      <td>Lyney Sellahaney</td>\n",
       "      <td>2</td>\n",
       "    </tr>\n",
       "  </tbody>\n",
       "</table>\n",
       "</div>"
      ],
      "text/plain": [
       "            count unique               top  freq\n",
       "PassengerId  4277   4277           9277_01     1\n",
       "HomePlanet   4190      3             Earth  2263\n",
       "CryoSleep    4184      2             False  2640\n",
       "Cabin        4177   3265           G/160/P     8\n",
       "Destination  4185      3       TRAPPIST-1e  2956\n",
       "VIP          4184      2             False  4110\n",
       "Name         4183   4176  Lyney Sellahaney     2"
      ]
     },
     "execution_count": 11,
     "metadata": {},
     "output_type": "execute_result"
    }
   ],
   "source": [
    "# describing the train data for the object columns\n",
    "test_data.describe(include=\"object\").round().T"
   ]
  },
  {
   "cell_type": "code",
   "execution_count": 12,
   "id": "174706e3",
   "metadata": {},
   "outputs": [
    {
     "data": {
      "application/vnd.microsoft.datawrangler.viewer.v0+json": {
       "columns": [
        {
         "name": "index",
         "rawType": "object",
         "type": "string"
        },
        {
         "name": "count",
         "rawType": "float64",
         "type": "float"
        },
        {
         "name": "mean",
         "rawType": "float64",
         "type": "float"
        },
        {
         "name": "std",
         "rawType": "float64",
         "type": "float"
        },
        {
         "name": "min",
         "rawType": "float64",
         "type": "float"
        },
        {
         "name": "25%",
         "rawType": "float64",
         "type": "float"
        },
        {
         "name": "50%",
         "rawType": "float64",
         "type": "float"
        },
        {
         "name": "75%",
         "rawType": "float64",
         "type": "float"
        },
        {
         "name": "max",
         "rawType": "float64",
         "type": "float"
        }
       ],
       "ref": "234309f7-897d-4ef7-ad3d-1a4e19f6f640",
       "rows": [
        [
         "Age",
         "4186.0",
         "29.0",
         "14.0",
         "0.0",
         "19.0",
         "26.0",
         "37.0",
         "79.0"
        ],
        [
         "RoomService",
         "4195.0",
         "219.0",
         "607.0",
         "0.0",
         "0.0",
         "0.0",
         "53.0",
         "11567.0"
        ],
        [
         "FoodCourt",
         "4171.0",
         "439.0",
         "1528.0",
         "0.0",
         "0.0",
         "0.0",
         "78.0",
         "25273.0"
        ],
        [
         "ShoppingMall",
         "4179.0",
         "177.0",
         "561.0",
         "0.0",
         "0.0",
         "0.0",
         "33.0",
         "8292.0"
        ],
        [
         "Spa",
         "4176.0",
         "303.0",
         "1117.0",
         "0.0",
         "0.0",
         "0.0",
         "50.0",
         "19844.0"
        ],
        [
         "VRDeck",
         "4197.0",
         "311.0",
         "1247.0",
         "0.0",
         "0.0",
         "0.0",
         "36.0",
         "22272.0"
        ]
       ],
       "shape": {
        "columns": 8,
        "rows": 6
       }
      },
      "text/html": [
       "<div>\n",
       "<style scoped>\n",
       "    .dataframe tbody tr th:only-of-type {\n",
       "        vertical-align: middle;\n",
       "    }\n",
       "\n",
       "    .dataframe tbody tr th {\n",
       "        vertical-align: top;\n",
       "    }\n",
       "\n",
       "    .dataframe thead th {\n",
       "        text-align: right;\n",
       "    }\n",
       "</style>\n",
       "<table border=\"1\" class=\"dataframe\">\n",
       "  <thead>\n",
       "    <tr style=\"text-align: right;\">\n",
       "      <th></th>\n",
       "      <th>count</th>\n",
       "      <th>mean</th>\n",
       "      <th>std</th>\n",
       "      <th>min</th>\n",
       "      <th>25%</th>\n",
       "      <th>50%</th>\n",
       "      <th>75%</th>\n",
       "      <th>max</th>\n",
       "    </tr>\n",
       "  </thead>\n",
       "  <tbody>\n",
       "    <tr>\n",
       "      <th>Age</th>\n",
       "      <td>4186.0</td>\n",
       "      <td>29.0</td>\n",
       "      <td>14.0</td>\n",
       "      <td>0.0</td>\n",
       "      <td>19.0</td>\n",
       "      <td>26.0</td>\n",
       "      <td>37.0</td>\n",
       "      <td>79.0</td>\n",
       "    </tr>\n",
       "    <tr>\n",
       "      <th>RoomService</th>\n",
       "      <td>4195.0</td>\n",
       "      <td>219.0</td>\n",
       "      <td>607.0</td>\n",
       "      <td>0.0</td>\n",
       "      <td>0.0</td>\n",
       "      <td>0.0</td>\n",
       "      <td>53.0</td>\n",
       "      <td>11567.0</td>\n",
       "    </tr>\n",
       "    <tr>\n",
       "      <th>FoodCourt</th>\n",
       "      <td>4171.0</td>\n",
       "      <td>439.0</td>\n",
       "      <td>1528.0</td>\n",
       "      <td>0.0</td>\n",
       "      <td>0.0</td>\n",
       "      <td>0.0</td>\n",
       "      <td>78.0</td>\n",
       "      <td>25273.0</td>\n",
       "    </tr>\n",
       "    <tr>\n",
       "      <th>ShoppingMall</th>\n",
       "      <td>4179.0</td>\n",
       "      <td>177.0</td>\n",
       "      <td>561.0</td>\n",
       "      <td>0.0</td>\n",
       "      <td>0.0</td>\n",
       "      <td>0.0</td>\n",
       "      <td>33.0</td>\n",
       "      <td>8292.0</td>\n",
       "    </tr>\n",
       "    <tr>\n",
       "      <th>Spa</th>\n",
       "      <td>4176.0</td>\n",
       "      <td>303.0</td>\n",
       "      <td>1117.0</td>\n",
       "      <td>0.0</td>\n",
       "      <td>0.0</td>\n",
       "      <td>0.0</td>\n",
       "      <td>50.0</td>\n",
       "      <td>19844.0</td>\n",
       "    </tr>\n",
       "    <tr>\n",
       "      <th>VRDeck</th>\n",
       "      <td>4197.0</td>\n",
       "      <td>311.0</td>\n",
       "      <td>1247.0</td>\n",
       "      <td>0.0</td>\n",
       "      <td>0.0</td>\n",
       "      <td>0.0</td>\n",
       "      <td>36.0</td>\n",
       "      <td>22272.0</td>\n",
       "    </tr>\n",
       "  </tbody>\n",
       "</table>\n",
       "</div>"
      ],
      "text/plain": [
       "               count   mean     std  min   25%   50%   75%      max\n",
       "Age           4186.0   29.0    14.0  0.0  19.0  26.0  37.0     79.0\n",
       "RoomService   4195.0  219.0   607.0  0.0   0.0   0.0  53.0  11567.0\n",
       "FoodCourt     4171.0  439.0  1528.0  0.0   0.0   0.0  78.0  25273.0\n",
       "ShoppingMall  4179.0  177.0   561.0  0.0   0.0   0.0  33.0   8292.0\n",
       "Spa           4176.0  303.0  1117.0  0.0   0.0   0.0  50.0  19844.0\n",
       "VRDeck        4197.0  311.0  1247.0  0.0   0.0   0.0  36.0  22272.0"
      ]
     },
     "execution_count": 12,
     "metadata": {},
     "output_type": "execute_result"
    }
   ],
   "source": [
    "# describing the train data for the numerical columns\n",
    "test_data.describe().round().T"
   ]
  },
  {
   "cell_type": "code",
   "execution_count": 13,
   "id": "19ab905e",
   "metadata": {},
   "outputs": [
    {
     "data": {
      "application/vnd.microsoft.datawrangler.viewer.v0+json": {
       "columns": [
        {
         "name": "index",
         "rawType": "int64",
         "type": "integer"
        },
        {
         "name": "PassengerId",
         "rawType": "object",
         "type": "string"
        },
        {
         "name": "HomePlanet",
         "rawType": "object",
         "type": "string"
        },
        {
         "name": "CryoSleep",
         "rawType": "object",
         "type": "unknown"
        },
        {
         "name": "Cabin",
         "rawType": "object",
         "type": "string"
        },
        {
         "name": "Destination",
         "rawType": "object",
         "type": "string"
        },
        {
         "name": "Age",
         "rawType": "float64",
         "type": "float"
        },
        {
         "name": "VIP",
         "rawType": "object",
         "type": "unknown"
        },
        {
         "name": "RoomService",
         "rawType": "float64",
         "type": "float"
        },
        {
         "name": "FoodCourt",
         "rawType": "float64",
         "type": "float"
        },
        {
         "name": "ShoppingMall",
         "rawType": "float64",
         "type": "float"
        },
        {
         "name": "Spa",
         "rawType": "float64",
         "type": "float"
        },
        {
         "name": "VRDeck",
         "rawType": "float64",
         "type": "float"
        },
        {
         "name": "Name",
         "rawType": "object",
         "type": "string"
        },
        {
         "name": "Transported",
         "rawType": "bool",
         "type": "boolean"
        }
       ],
       "ref": "30588568-9b73-4e09-b3a1-47bb03813711",
       "rows": [
        [
         "0",
         "0001_01",
         "Europa",
         "False",
         "B/0/P",
         "TRAPPIST-1e",
         "39.0",
         "False",
         "0.0",
         "0.0",
         "0.0",
         "0.0",
         "0.0",
         "Maham Ofracculy",
         "False"
        ],
        [
         "1",
         "0002_01",
         "Earth",
         "False",
         "F/0/S",
         "TRAPPIST-1e",
         "24.0",
         "False",
         "109.0",
         "9.0",
         "25.0",
         "549.0",
         "44.0",
         "Juanna Vines",
         "True"
        ],
        [
         "2",
         "0003_01",
         "Europa",
         "False",
         "A/0/S",
         "TRAPPIST-1e",
         "58.0",
         "True",
         "43.0",
         "3576.0",
         "0.0",
         "6715.0",
         "49.0",
         "Altark Susent",
         "False"
        ],
        [
         "3",
         "0003_02",
         "Europa",
         "False",
         "A/0/S",
         "TRAPPIST-1e",
         "33.0",
         "False",
         "0.0",
         "1283.0",
         "371.0",
         "3329.0",
         "193.0",
         "Solam Susent",
         "False"
        ],
        [
         "4",
         "0004_01",
         "Earth",
         "False",
         "F/1/S",
         "TRAPPIST-1e",
         "16.0",
         "False",
         "303.0",
         "70.0",
         "151.0",
         "565.0",
         "2.0",
         "Willy Santantines",
         "True"
        ]
       ],
       "shape": {
        "columns": 14,
        "rows": 5
       }
      },
      "text/html": [
       "<div>\n",
       "<style scoped>\n",
       "    .dataframe tbody tr th:only-of-type {\n",
       "        vertical-align: middle;\n",
       "    }\n",
       "\n",
       "    .dataframe tbody tr th {\n",
       "        vertical-align: top;\n",
       "    }\n",
       "\n",
       "    .dataframe thead th {\n",
       "        text-align: right;\n",
       "    }\n",
       "</style>\n",
       "<table border=\"1\" class=\"dataframe\">\n",
       "  <thead>\n",
       "    <tr style=\"text-align: right;\">\n",
       "      <th></th>\n",
       "      <th>PassengerId</th>\n",
       "      <th>HomePlanet</th>\n",
       "      <th>CryoSleep</th>\n",
       "      <th>Cabin</th>\n",
       "      <th>Destination</th>\n",
       "      <th>Age</th>\n",
       "      <th>VIP</th>\n",
       "      <th>RoomService</th>\n",
       "      <th>FoodCourt</th>\n",
       "      <th>ShoppingMall</th>\n",
       "      <th>Spa</th>\n",
       "      <th>VRDeck</th>\n",
       "      <th>Name</th>\n",
       "      <th>Transported</th>\n",
       "    </tr>\n",
       "  </thead>\n",
       "  <tbody>\n",
       "    <tr>\n",
       "      <th>0</th>\n",
       "      <td>0001_01</td>\n",
       "      <td>Europa</td>\n",
       "      <td>False</td>\n",
       "      <td>B/0/P</td>\n",
       "      <td>TRAPPIST-1e</td>\n",
       "      <td>39.0</td>\n",
       "      <td>False</td>\n",
       "      <td>0.0</td>\n",
       "      <td>0.0</td>\n",
       "      <td>0.0</td>\n",
       "      <td>0.0</td>\n",
       "      <td>0.0</td>\n",
       "      <td>Maham Ofracculy</td>\n",
       "      <td>False</td>\n",
       "    </tr>\n",
       "    <tr>\n",
       "      <th>1</th>\n",
       "      <td>0002_01</td>\n",
       "      <td>Earth</td>\n",
       "      <td>False</td>\n",
       "      <td>F/0/S</td>\n",
       "      <td>TRAPPIST-1e</td>\n",
       "      <td>24.0</td>\n",
       "      <td>False</td>\n",
       "      <td>109.0</td>\n",
       "      <td>9.0</td>\n",
       "      <td>25.0</td>\n",
       "      <td>549.0</td>\n",
       "      <td>44.0</td>\n",
       "      <td>Juanna Vines</td>\n",
       "      <td>True</td>\n",
       "    </tr>\n",
       "    <tr>\n",
       "      <th>2</th>\n",
       "      <td>0003_01</td>\n",
       "      <td>Europa</td>\n",
       "      <td>False</td>\n",
       "      <td>A/0/S</td>\n",
       "      <td>TRAPPIST-1e</td>\n",
       "      <td>58.0</td>\n",
       "      <td>True</td>\n",
       "      <td>43.0</td>\n",
       "      <td>3576.0</td>\n",
       "      <td>0.0</td>\n",
       "      <td>6715.0</td>\n",
       "      <td>49.0</td>\n",
       "      <td>Altark Susent</td>\n",
       "      <td>False</td>\n",
       "    </tr>\n",
       "    <tr>\n",
       "      <th>3</th>\n",
       "      <td>0003_02</td>\n",
       "      <td>Europa</td>\n",
       "      <td>False</td>\n",
       "      <td>A/0/S</td>\n",
       "      <td>TRAPPIST-1e</td>\n",
       "      <td>33.0</td>\n",
       "      <td>False</td>\n",
       "      <td>0.0</td>\n",
       "      <td>1283.0</td>\n",
       "      <td>371.0</td>\n",
       "      <td>3329.0</td>\n",
       "      <td>193.0</td>\n",
       "      <td>Solam Susent</td>\n",
       "      <td>False</td>\n",
       "    </tr>\n",
       "    <tr>\n",
       "      <th>4</th>\n",
       "      <td>0004_01</td>\n",
       "      <td>Earth</td>\n",
       "      <td>False</td>\n",
       "      <td>F/1/S</td>\n",
       "      <td>TRAPPIST-1e</td>\n",
       "      <td>16.0</td>\n",
       "      <td>False</td>\n",
       "      <td>303.0</td>\n",
       "      <td>70.0</td>\n",
       "      <td>151.0</td>\n",
       "      <td>565.0</td>\n",
       "      <td>2.0</td>\n",
       "      <td>Willy Santantines</td>\n",
       "      <td>True</td>\n",
       "    </tr>\n",
       "  </tbody>\n",
       "</table>\n",
       "</div>"
      ],
      "text/plain": [
       "  PassengerId HomePlanet CryoSleep  Cabin  Destination   Age    VIP  \\\n",
       "0     0001_01     Europa     False  B/0/P  TRAPPIST-1e  39.0  False   \n",
       "1     0002_01      Earth     False  F/0/S  TRAPPIST-1e  24.0  False   \n",
       "2     0003_01     Europa     False  A/0/S  TRAPPIST-1e  58.0   True   \n",
       "3     0003_02     Europa     False  A/0/S  TRAPPIST-1e  33.0  False   \n",
       "4     0004_01      Earth     False  F/1/S  TRAPPIST-1e  16.0  False   \n",
       "\n",
       "   RoomService  FoodCourt  ShoppingMall     Spa  VRDeck               Name  \\\n",
       "0          0.0        0.0           0.0     0.0     0.0    Maham Ofracculy   \n",
       "1        109.0        9.0          25.0   549.0    44.0       Juanna Vines   \n",
       "2         43.0     3576.0           0.0  6715.0    49.0      Altark Susent   \n",
       "3          0.0     1283.0         371.0  3329.0   193.0       Solam Susent   \n",
       "4        303.0       70.0         151.0   565.0     2.0  Willy Santantines   \n",
       "\n",
       "   Transported  \n",
       "0        False  \n",
       "1         True  \n",
       "2        False  \n",
       "3        False  \n",
       "4         True  "
      ]
     },
     "execution_count": 13,
     "metadata": {},
     "output_type": "execute_result"
    }
   ],
   "source": [
    "# looking at the data -- train\n",
    "train_data.head()"
   ]
  },
  {
   "cell_type": "code",
   "execution_count": 14,
   "id": "e80d7a32",
   "metadata": {},
   "outputs": [
    {
     "data": {
      "application/vnd.microsoft.datawrangler.viewer.v0+json": {
       "columns": [
        {
         "name": "index",
         "rawType": "int64",
         "type": "integer"
        },
        {
         "name": "PassengerId",
         "rawType": "object",
         "type": "string"
        },
        {
         "name": "HomePlanet",
         "rawType": "object",
         "type": "string"
        },
        {
         "name": "CryoSleep",
         "rawType": "object",
         "type": "unknown"
        },
        {
         "name": "Cabin",
         "rawType": "object",
         "type": "string"
        },
        {
         "name": "Destination",
         "rawType": "object",
         "type": "string"
        },
        {
         "name": "Age",
         "rawType": "float64",
         "type": "float"
        },
        {
         "name": "VIP",
         "rawType": "object",
         "type": "unknown"
        },
        {
         "name": "RoomService",
         "rawType": "float64",
         "type": "float"
        },
        {
         "name": "FoodCourt",
         "rawType": "float64",
         "type": "float"
        },
        {
         "name": "ShoppingMall",
         "rawType": "float64",
         "type": "float"
        },
        {
         "name": "Spa",
         "rawType": "float64",
         "type": "float"
        },
        {
         "name": "VRDeck",
         "rawType": "float64",
         "type": "float"
        },
        {
         "name": "Name",
         "rawType": "object",
         "type": "string"
        }
       ],
       "ref": "3edaded3-1e77-48c8-8159-6ebd6fcce25a",
       "rows": [
        [
         "0",
         "0013_01",
         "Earth",
         "True",
         "G/3/S",
         "TRAPPIST-1e",
         "27.0",
         "False",
         "0.0",
         "0.0",
         "0.0",
         "0.0",
         "0.0",
         "Nelly Carsoning"
        ],
        [
         "1",
         "0018_01",
         "Earth",
         "False",
         "F/4/S",
         "TRAPPIST-1e",
         "19.0",
         "False",
         "0.0",
         "9.0",
         "0.0",
         "2823.0",
         "0.0",
         "Lerome Peckers"
        ],
        [
         "2",
         "0019_01",
         "Europa",
         "True",
         "C/0/S",
         "55 Cancri e",
         "31.0",
         "False",
         "0.0",
         "0.0",
         "0.0",
         "0.0",
         "0.0",
         "Sabih Unhearfus"
        ],
        [
         "3",
         "0021_01",
         "Europa",
         "False",
         "C/1/S",
         "TRAPPIST-1e",
         "38.0",
         "False",
         "0.0",
         "6652.0",
         "0.0",
         "181.0",
         "585.0",
         "Meratz Caltilter"
        ],
        [
         "4",
         "0023_01",
         "Earth",
         "False",
         "F/5/S",
         "TRAPPIST-1e",
         "20.0",
         "False",
         "10.0",
         "0.0",
         "635.0",
         "0.0",
         "0.0",
         "Brence Harperez"
        ]
       ],
       "shape": {
        "columns": 13,
        "rows": 5
       }
      },
      "text/html": [
       "<div>\n",
       "<style scoped>\n",
       "    .dataframe tbody tr th:only-of-type {\n",
       "        vertical-align: middle;\n",
       "    }\n",
       "\n",
       "    .dataframe tbody tr th {\n",
       "        vertical-align: top;\n",
       "    }\n",
       "\n",
       "    .dataframe thead th {\n",
       "        text-align: right;\n",
       "    }\n",
       "</style>\n",
       "<table border=\"1\" class=\"dataframe\">\n",
       "  <thead>\n",
       "    <tr style=\"text-align: right;\">\n",
       "      <th></th>\n",
       "      <th>PassengerId</th>\n",
       "      <th>HomePlanet</th>\n",
       "      <th>CryoSleep</th>\n",
       "      <th>Cabin</th>\n",
       "      <th>Destination</th>\n",
       "      <th>Age</th>\n",
       "      <th>VIP</th>\n",
       "      <th>RoomService</th>\n",
       "      <th>FoodCourt</th>\n",
       "      <th>ShoppingMall</th>\n",
       "      <th>Spa</th>\n",
       "      <th>VRDeck</th>\n",
       "      <th>Name</th>\n",
       "    </tr>\n",
       "  </thead>\n",
       "  <tbody>\n",
       "    <tr>\n",
       "      <th>0</th>\n",
       "      <td>0013_01</td>\n",
       "      <td>Earth</td>\n",
       "      <td>True</td>\n",
       "      <td>G/3/S</td>\n",
       "      <td>TRAPPIST-1e</td>\n",
       "      <td>27.0</td>\n",
       "      <td>False</td>\n",
       "      <td>0.0</td>\n",
       "      <td>0.0</td>\n",
       "      <td>0.0</td>\n",
       "      <td>0.0</td>\n",
       "      <td>0.0</td>\n",
       "      <td>Nelly Carsoning</td>\n",
       "    </tr>\n",
       "    <tr>\n",
       "      <th>1</th>\n",
       "      <td>0018_01</td>\n",
       "      <td>Earth</td>\n",
       "      <td>False</td>\n",
       "      <td>F/4/S</td>\n",
       "      <td>TRAPPIST-1e</td>\n",
       "      <td>19.0</td>\n",
       "      <td>False</td>\n",
       "      <td>0.0</td>\n",
       "      <td>9.0</td>\n",
       "      <td>0.0</td>\n",
       "      <td>2823.0</td>\n",
       "      <td>0.0</td>\n",
       "      <td>Lerome Peckers</td>\n",
       "    </tr>\n",
       "    <tr>\n",
       "      <th>2</th>\n",
       "      <td>0019_01</td>\n",
       "      <td>Europa</td>\n",
       "      <td>True</td>\n",
       "      <td>C/0/S</td>\n",
       "      <td>55 Cancri e</td>\n",
       "      <td>31.0</td>\n",
       "      <td>False</td>\n",
       "      <td>0.0</td>\n",
       "      <td>0.0</td>\n",
       "      <td>0.0</td>\n",
       "      <td>0.0</td>\n",
       "      <td>0.0</td>\n",
       "      <td>Sabih Unhearfus</td>\n",
       "    </tr>\n",
       "    <tr>\n",
       "      <th>3</th>\n",
       "      <td>0021_01</td>\n",
       "      <td>Europa</td>\n",
       "      <td>False</td>\n",
       "      <td>C/1/S</td>\n",
       "      <td>TRAPPIST-1e</td>\n",
       "      <td>38.0</td>\n",
       "      <td>False</td>\n",
       "      <td>0.0</td>\n",
       "      <td>6652.0</td>\n",
       "      <td>0.0</td>\n",
       "      <td>181.0</td>\n",
       "      <td>585.0</td>\n",
       "      <td>Meratz Caltilter</td>\n",
       "    </tr>\n",
       "    <tr>\n",
       "      <th>4</th>\n",
       "      <td>0023_01</td>\n",
       "      <td>Earth</td>\n",
       "      <td>False</td>\n",
       "      <td>F/5/S</td>\n",
       "      <td>TRAPPIST-1e</td>\n",
       "      <td>20.0</td>\n",
       "      <td>False</td>\n",
       "      <td>10.0</td>\n",
       "      <td>0.0</td>\n",
       "      <td>635.0</td>\n",
       "      <td>0.0</td>\n",
       "      <td>0.0</td>\n",
       "      <td>Brence Harperez</td>\n",
       "    </tr>\n",
       "  </tbody>\n",
       "</table>\n",
       "</div>"
      ],
      "text/plain": [
       "  PassengerId HomePlanet CryoSleep  Cabin  Destination   Age    VIP  \\\n",
       "0     0013_01      Earth      True  G/3/S  TRAPPIST-1e  27.0  False   \n",
       "1     0018_01      Earth     False  F/4/S  TRAPPIST-1e  19.0  False   \n",
       "2     0019_01     Europa      True  C/0/S  55 Cancri e  31.0  False   \n",
       "3     0021_01     Europa     False  C/1/S  TRAPPIST-1e  38.0  False   \n",
       "4     0023_01      Earth     False  F/5/S  TRAPPIST-1e  20.0  False   \n",
       "\n",
       "   RoomService  FoodCourt  ShoppingMall     Spa  VRDeck              Name  \n",
       "0          0.0        0.0           0.0     0.0     0.0   Nelly Carsoning  \n",
       "1          0.0        9.0           0.0  2823.0     0.0    Lerome Peckers  \n",
       "2          0.0        0.0           0.0     0.0     0.0   Sabih Unhearfus  \n",
       "3          0.0     6652.0           0.0   181.0   585.0  Meratz Caltilter  \n",
       "4         10.0        0.0         635.0     0.0     0.0   Brence Harperez  "
      ]
     },
     "execution_count": 14,
     "metadata": {},
     "output_type": "execute_result"
    }
   ],
   "source": [
    "# looking at the data -- test\n",
    "test_data.head()"
   ]
  },
  {
   "cell_type": "markdown",
   "id": "d7ad1da1",
   "metadata": {},
   "source": [
    "Missing Values"
   ]
  },
  {
   "cell_type": "code",
   "execution_count": 15,
   "id": "2f2ca4a0",
   "metadata": {},
   "outputs": [
    {
     "name": "stdout",
     "output_type": "stream",
     "text": [
      "The missing values in train data: \n"
     ]
    },
    {
     "data": {
      "application/vnd.microsoft.datawrangler.viewer.v0+json": {
       "columns": [
        {
         "name": "index",
         "rawType": "object",
         "type": "string"
        },
        {
         "name": "0",
         "rawType": "int64",
         "type": "integer"
        }
       ],
       "ref": "705bcbd5-d5bf-4d2c-94a7-4cd382fd0c35",
       "rows": [
        [
         "PassengerId",
         "0"
        ],
        [
         "HomePlanet",
         "201"
        ],
        [
         "CryoSleep",
         "217"
        ],
        [
         "Cabin",
         "199"
        ],
        [
         "Destination",
         "182"
        ],
        [
         "Age",
         "179"
        ],
        [
         "VIP",
         "203"
        ],
        [
         "RoomService",
         "181"
        ],
        [
         "FoodCourt",
         "183"
        ],
        [
         "ShoppingMall",
         "208"
        ],
        [
         "Spa",
         "183"
        ],
        [
         "VRDeck",
         "188"
        ],
        [
         "Name",
         "200"
        ],
        [
         "Transported",
         "0"
        ]
       ],
       "shape": {
        "columns": 1,
        "rows": 14
       }
      },
      "text/plain": [
       "PassengerId       0\n",
       "HomePlanet      201\n",
       "CryoSleep       217\n",
       "Cabin           199\n",
       "Destination     182\n",
       "Age             179\n",
       "VIP             203\n",
       "RoomService     181\n",
       "FoodCourt       183\n",
       "ShoppingMall    208\n",
       "Spa             183\n",
       "VRDeck          188\n",
       "Name            200\n",
       "Transported       0\n",
       "dtype: int64"
      ]
     },
     "execution_count": 15,
     "metadata": {},
     "output_type": "execute_result"
    }
   ],
   "source": [
    "# looking at the missing values -- train\n",
    "print(\"The missing values in train data: \")\n",
    "train_data.isna().sum()"
   ]
  },
  {
   "cell_type": "code",
   "execution_count": 16,
   "id": "5d955204",
   "metadata": {},
   "outputs": [
    {
     "name": "stdout",
     "output_type": "stream",
     "text": [
      "The missing values(%) in train data: \n"
     ]
    },
    {
     "data": {
      "application/vnd.microsoft.datawrangler.viewer.v0+json": {
       "columns": [
        {
         "name": "index",
         "rawType": "object",
         "type": "string"
        },
        {
         "name": "0",
         "rawType": "float64",
         "type": "float"
        }
       ],
       "ref": "0cc7667c-e9ce-4d24-862d-8f09a28dcf65",
       "rows": [
        [
         "PassengerId",
         "0.0"
        ],
        [
         "HomePlanet",
         "0.02"
        ],
        [
         "CryoSleep",
         "0.02"
        ],
        [
         "Cabin",
         "0.02"
        ],
        [
         "Destination",
         "0.02"
        ],
        [
         "Age",
         "0.02"
        ],
        [
         "VIP",
         "0.02"
        ],
        [
         "RoomService",
         "0.02"
        ],
        [
         "FoodCourt",
         "0.02"
        ],
        [
         "ShoppingMall",
         "0.02"
        ],
        [
         "Spa",
         "0.02"
        ],
        [
         "VRDeck",
         "0.02"
        ],
        [
         "Name",
         "0.02"
        ],
        [
         "Transported",
         "0.0"
        ]
       ],
       "shape": {
        "columns": 1,
        "rows": 14
       }
      },
      "text/plain": [
       "PassengerId     0.00\n",
       "HomePlanet      0.02\n",
       "CryoSleep       0.02\n",
       "Cabin           0.02\n",
       "Destination     0.02\n",
       "Age             0.02\n",
       "VIP             0.02\n",
       "RoomService     0.02\n",
       "FoodCourt       0.02\n",
       "ShoppingMall    0.02\n",
       "Spa             0.02\n",
       "VRDeck          0.02\n",
       "Name            0.02\n",
       "Transported     0.00\n",
       "dtype: float64"
      ]
     },
     "execution_count": 16,
     "metadata": {},
     "output_type": "execute_result"
    }
   ],
   "source": [
    "# looking at the missing values -- train\n",
    "print(\"The missing values(%) in train data: \")\n",
    "np.round(train_data.isna().sum() / train_data.shape[0], 2)"
   ]
  },
  {
   "cell_type": "code",
   "execution_count": 17,
   "id": "5da0849b",
   "metadata": {},
   "outputs": [
    {
     "name": "stdout",
     "output_type": "stream",
     "text": [
      "The missing values in test data: \n"
     ]
    },
    {
     "data": {
      "application/vnd.microsoft.datawrangler.viewer.v0+json": {
       "columns": [
        {
         "name": "index",
         "rawType": "object",
         "type": "string"
        },
        {
         "name": "Columns",
         "rawType": "int64",
         "type": "integer"
        }
       ],
       "ref": "78ed0f80-6859-4217-bf49-c120e9814e17",
       "rows": [
        [
         "PassengerId",
         "0"
        ],
        [
         "HomePlanet",
         "87"
        ],
        [
         "CryoSleep",
         "93"
        ],
        [
         "Cabin",
         "100"
        ],
        [
         "Destination",
         "92"
        ],
        [
         "Age",
         "91"
        ],
        [
         "VIP",
         "93"
        ],
        [
         "RoomService",
         "82"
        ],
        [
         "FoodCourt",
         "106"
        ],
        [
         "ShoppingMall",
         "98"
        ],
        [
         "Spa",
         "101"
        ],
        [
         "VRDeck",
         "80"
        ],
        [
         "Name",
         "94"
        ]
       ],
       "shape": {
        "columns": 1,
        "rows": 13
       }
      },
      "text/plain": [
       "PassengerId       0\n",
       "HomePlanet       87\n",
       "CryoSleep        93\n",
       "Cabin           100\n",
       "Destination      92\n",
       "Age              91\n",
       "VIP              93\n",
       "RoomService      82\n",
       "FoodCourt       106\n",
       "ShoppingMall     98\n",
       "Spa             101\n",
       "VRDeck           80\n",
       "Name             94\n",
       "Name: Columns, dtype: int64"
      ]
     },
     "execution_count": 17,
     "metadata": {},
     "output_type": "execute_result"
    }
   ],
   "source": [
    "# looking at the missing values -- test\n",
    "print(\"The missing values in test data: \")\n",
    "test_data.isna().sum().rename(index=\"Columns\")"
   ]
  },
  {
   "cell_type": "code",
   "execution_count": 18,
   "id": "452868ce",
   "metadata": {},
   "outputs": [
    {
     "name": "stdout",
     "output_type": "stream",
     "text": [
      "The missing values(%) in test data: \n"
     ]
    },
    {
     "data": {
      "application/vnd.microsoft.datawrangler.viewer.v0+json": {
       "columns": [
        {
         "name": "index",
         "rawType": "object",
         "type": "string"
        },
        {
         "name": "0",
         "rawType": "float64",
         "type": "float"
        }
       ],
       "ref": "39f98aef-9b1b-40fe-b026-4f45779dfe51",
       "rows": [
        [
         "PassengerId",
         "0.0"
        ],
        [
         "HomePlanet",
         "0.02"
        ],
        [
         "CryoSleep",
         "0.02"
        ],
        [
         "Cabin",
         "0.02"
        ],
        [
         "Destination",
         "0.02"
        ],
        [
         "Age",
         "0.02"
        ],
        [
         "VIP",
         "0.02"
        ],
        [
         "RoomService",
         "0.02"
        ],
        [
         "FoodCourt",
         "0.02"
        ],
        [
         "ShoppingMall",
         "0.02"
        ],
        [
         "Spa",
         "0.02"
        ],
        [
         "VRDeck",
         "0.02"
        ],
        [
         "Name",
         "0.02"
        ]
       ],
       "shape": {
        "columns": 1,
        "rows": 13
       }
      },
      "text/plain": [
       "PassengerId     0.00\n",
       "HomePlanet      0.02\n",
       "CryoSleep       0.02\n",
       "Cabin           0.02\n",
       "Destination     0.02\n",
       "Age             0.02\n",
       "VIP             0.02\n",
       "RoomService     0.02\n",
       "FoodCourt       0.02\n",
       "ShoppingMall    0.02\n",
       "Spa             0.02\n",
       "VRDeck          0.02\n",
       "Name            0.02\n",
       "dtype: float64"
      ]
     },
     "execution_count": 18,
     "metadata": {},
     "output_type": "execute_result"
    }
   ],
   "source": [
    "# looking at the missing values -- test\n",
    "print(\"The missing values(%) in test data: \")\n",
    "np.round(test_data.isna().sum() / test_data.shape[0], 2)"
   ]
  },
  {
   "cell_type": "code",
   "execution_count": null,
   "id": "62bc231b",
   "metadata": {},
   "outputs": [
    {
     "ename": "NameError",
     "evalue": "name 'data' is not defined",
     "output_type": "error",
     "traceback": [
      "\u001b[31m---------------------------------------------------------------------------\u001b[39m",
      "\u001b[31mNameError\u001b[39m                                 Traceback (most recent call last)",
      "\u001b[36mCell\u001b[39m\u001b[36m \u001b[39m\u001b[32mIn[1]\u001b[39m\u001b[32m, line 1\u001b[39m\n\u001b[32m----> \u001b[39m\u001b[32m1\u001b[39m data[\u001b[33m\"\u001b[39m\u001b[33mGroupSizes\u001b[39m\u001b[33m\"\u001b[39m] = \u001b[43mdata\u001b[49m[\u001b[33m\"\u001b[39m\u001b[33mGroupID\u001b[39m\u001b[33m\"\u001b[39m].map(\n\u001b[32m      2\u001b[39m     \u001b[38;5;28;01mlambda\u001b[39;00m size: data[\u001b[33m\"\u001b[39m\u001b[33mGroupID\u001b[39m\u001b[33m\"\u001b[39m].value_counts()[size])\n",
      "\u001b[31mNameError\u001b[39m: name 'data' is not defined"
     ]
    }
   ],
   "source": [
    "# data[\"GroupSizes\"] = data[\"GroupID\"].map(\n",
    "#     lambda size: data[\"GroupID\"].value_counts()[size])"
   ]
  },
  {
   "cell_type": "code",
   "execution_count": null,
   "id": "541b8cd1",
   "metadata": {},
   "outputs": [],
   "source": []
  }
 ],
 "metadata": {
  "kernelspec": {
   "display_name": "spaceship_titanic_venv (3.13.4)",
   "language": "python",
   "name": "python3"
  },
  "language_info": {
   "codemirror_mode": {
    "name": "ipython",
    "version": 3
   },
   "file_extension": ".py",
   "mimetype": "text/x-python",
   "name": "python",
   "nbconvert_exporter": "python",
   "pygments_lexer": "ipython3",
   "version": "3.13.4"
  }
 },
 "nbformat": 4,
 "nbformat_minor": 5
}
