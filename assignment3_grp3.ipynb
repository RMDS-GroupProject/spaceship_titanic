{
  "cells": [
    {
      "cell_type": "markdown",
      "metadata": {
        "colab_type": "text",
        "id": "view-in-github"
      },
      "source": [
        "<a href=\"https://colab.research.google.com/github/RMDS-GroupProject/spaceship_titanic/blob/main/assignment3_grp3.ipynb\" target=\"_parent\"><img src=\"https://colab.research.google.com/assets/colab-badge.svg\" alt=\"Open In Colab\"/></a>"
      ]
    },
    {
      "cell_type": "markdown",
      "metadata": {
        "id": "TuPPe5SwIk0F"
      },
      "source": [
        "## **7PAM2015-0509-2024 -- Research Methods in Data Science**\n",
        "### Group Kaggle Challenge on Spaceship Titanic -- Assignment-3\n",
        "##### Spaceship Titanic Challenge link can be found [here](https://www.kaggle.com/competitions/spaceship-titanic/overview).\n",
        "Columns description in the dataset.\n",
        "\n",
        "    PassengerId - A unique Id for each passenger. Each Id takes the form gggg_pp where gggg indicates a group the passenger is travelling with and pp is their number within the group. People in a group are often family members, but not always.\n",
        "    HomePlanet - The planet the passenger departed from, typically their planet of permanent residence.\n",
        "    CryoSleep - Indicates whether the passenger elected to be put into suspended animation for the duration of the voyage. Passengers in cryosleep are confined to their cabins.\n",
        "    Cabin - The cabin number where the passenger is staying. Takes the form deck/num/side, where side can be either P for Port or S for Starboard.\n",
        "    Destination - The planet the passenger will be debarking to.\n",
        "    Age - The age of the passenger.\n",
        "    VIP - Whether the passenger has paid for special VIP service during the voyage.\n",
        "    RoomService, FoodCourt, ShoppingMall, Spa, VRDeck - Amount the passenger has billed at each of the Spaceship Titanic's many luxury amenities.\n",
        "    Name - The first and last names of the passenger.\n",
        "    Transported - Whether the passenger was transported to another dimension. This is the target, the column you are trying to predict.\n",
        "---\n",
        "**Group-3**\n",
        "\n",
        "- **Mohit Agarwal                 (Student ID-22031257)**\n",
        "- **Jerome Paulraj                (Student ID-22074395)**\n",
        "- **Omkar Shashikant Sawant       (Student ID-22080770)**\n",
        "- **somy Nellikkunnel Thomas      (Student ID-22079522)**\n",
        "- **Chandra Shekar Losirlu        (Student ID-22081216)**\n",
        "- **Hari Bahadur Gharti Magar     (Student ID-22075765)**\n",
        "- **Yogesh Pandit                 (Student ID-22095146)**"
      ]
    },
    {
      "cell_type": "markdown",
      "metadata": {
        "id": "NCvrgXG_Ketp"
      },
      "source": [
        " Importing Required Libraries"
      ]
    },
    {
      "cell_type": "code",
      "execution_count": null,
      "metadata": {
        "id": "rZY0pH4piBmw"
      },
      "outputs": [],
      "source": [
        "# libraries import\n",
        "import os\n",
        "import pandas as pd\n",
        "import numpy as np\n",
        "import matplotlib.pyplot as plt\n",
        "import seaborn as sns\n",
        "import missingno as msno\n",
        "import warnings\n",
        "warnings.filterwarnings(\"ignore\")"
      ]
    },
    {
      "cell_type": "markdown",
      "metadata": {},
      "source": [
        "Setting Plot Style"
      ]
    },
    {
      "cell_type": "code",
      "execution_count": null,
      "metadata": {},
      "outputs": [],
      "source": [
        "# setting style\n",
        "sns.set_style(\"darkgrid\")\n",
        "# setting context\n",
        "sns.set_context(\"paper\")\n",
        "# setting palette\n",
        "sns.set_palette(\"deep\", color_codes=True)"
      ]
    },
    {
      "cell_type": "markdown",
      "metadata": {
        "id": "phq9aAuYLA-Z"
      },
      "source": [
        "Conneting Google Drive"
      ]
    },
    {
      "cell_type": "code",
      "execution_count": null,
      "metadata": {
        "colab": {
          "base_uri": "https://localhost:8080/"
        },
        "id": "A4GfehahK2ll",
        "outputId": "fb36cb3d-a12a-4790-ec6b-556b43038215"
      },
      "outputs": [
        {
          "name": "stdout",
          "output_type": "stream",
          "text": [
            "Mounted at /content/drive\n"
          ]
        }
      ],
      "source": [
        "from google.colab import drive\n",
        "drive.mount(\"/content/drive\")"
      ]
    },
    {
      "cell_type": "markdown",
      "metadata": {
        "id": "yaGWRDOCLYSv"
      },
      "source": [
        "Setting path to the data"
      ]
    },
    {
      "cell_type": "code",
      "execution_count": null,
      "metadata": {
        "id": "E_bY9Xd8LJVp"
      },
      "outputs": [],
      "source": [
        "# NOTE: change the path accordingly...\n",
        "# data path\n",
        "data_path = r\"D:\\MScDataScience\\9.Research_Methods\\Assignment\\Assignment3\\Spaceship_Titanic\\Data\"\n",
        "# image save path\n",
        "image_save_path = r\"D:\\MScDataScience\\9.Research_Methods\\Assignment\\Assignment3\\Spaceship_Titanic\\Images\""
      ]
    },
    {
      "cell_type": "markdown",
      "metadata": {},
      "source": [
        "Reading Data"
      ]
    },
    {
      "cell_type": "code",
      "execution_count": null,
      "metadata": {
        "id": "tYMEc66JLkdl"
      },
      "outputs": [],
      "source": [
        "# reading the trian and test data\n",
        "train_data = pd.read_csv(os.path.join(data_path, \"train.csv\"))\n",
        "test_data = pd.read_csv(os.path.join(data_path, \"test.csv\"))"
      ]
    }
  ],
  "metadata": {
    "colab": {
      "authorship_tag": "ABX9TyNIvWi2YoSKyiTNlKyEqMKd",
      "include_colab_link": true,
      "provenance": []
    },
    "kernelspec": {
      "display_name": "spaceship_titanic_venv (3.13.4)",
      "language": "python",
      "name": "python3"
    },
    "language_info": {
      "codemirror_mode": {
        "name": "ipython",
        "version": 3
      },
      "file_extension": ".py",
      "mimetype": "text/x-python",
      "name": "python",
      "nbconvert_exporter": "python",
      "pygments_lexer": "ipython3",
      "version": "3.13.4"
    }
  },
  "nbformat": 4,
  "nbformat_minor": 0
}
