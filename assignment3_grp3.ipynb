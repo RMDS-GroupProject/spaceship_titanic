{
  "nbformat": 4,
  "nbformat_minor": 0,
  "metadata": {
    "colab": {
      "provenance": [],
      "authorship_tag": "ABX9TyNIvWi2YoSKyiTNlKyEqMKd",
      "include_colab_link": true
    },
    "kernelspec": {
      "name": "python3",
      "display_name": "Python 3"
    },
    "language_info": {
      "name": "python"
    }
  },
  "cells": [
    {
      "cell_type": "markdown",
      "metadata": {
        "id": "view-in-github",
        "colab_type": "text"
      },
      "source": [
        "<a href=\"https://colab.research.google.com/github/RMDS-GroupProject/spaceship_titanic/blob/main/assignment3_grp3.ipynb\" target=\"_parent\"><img src=\"https://colab.research.google.com/assets/colab-badge.svg\" alt=\"Open In Colab\"/></a>"
      ]
    },
    {
      "cell_type": "markdown",
      "source": [
        "## **7PAM2015-0509-2024 -- Research Methods in Data Science**\n",
        "### Group Kaggle Challenge on Spaceship Titanic -- Assignment-3\n",
        "##### Spaceship Titanic Challenge link can be found [here](https://www.kaggle.com/competitions/spaceship-titanic/overview).\n",
        "---\n",
        "**Group-3**\n",
        "\n",
        "- **Mohit Agarwal                 (Student ID-22031257)**\n",
        "- **Jerome Paulraj                (Student ID-22074395)**\n",
        "- **Omkar Shashikant Sawant       (Student ID-22080770)**\n",
        "- **somy Nellikkunnel Thomas      (Student ID-22079522)**\n",
        "- **Chandra Shekar Losirlu        (Student ID-22081216)**\n",
        "- **Hari Bahadur Gharti Magar     (Student ID-22075765)**\n",
        "- **Yogesh Pandit                 (Student ID-22095146)**"
      ],
      "metadata": {
        "id": "TuPPe5SwIk0F"
      }
    },
    {
      "cell_type": "markdown",
      "source": [
        " Importing Required Libraries"
      ],
      "metadata": {
        "id": "NCvrgXG_Ketp"
      }
    },
    {
      "cell_type": "code",
      "execution_count": 1,
      "metadata": {
        "id": "rZY0pH4piBmw"
      },
      "outputs": [],
      "source": [
        "# libraries import\n",
        "import pandas as pd\n",
        "import numpy as np\n",
        "import matplotlib.pyplot as plt\n",
        "import seaborn as sns\n",
        "import warnings\n",
        "warnings.filterwarnings(\"ignore\")"
      ]
    },
    {
      "cell_type": "markdown",
      "source": [
        "Conneting Google Drive"
      ],
      "metadata": {
        "id": "phq9aAuYLA-Z"
      }
    },
    {
      "cell_type": "code",
      "source": [
        "from google.colab import drive\n",
        "drive.mount('/content/drive')"
      ],
      "metadata": {
        "colab": {
          "base_uri": "https://localhost:8080/"
        },
        "id": "A4GfehahK2ll",
        "outputId": "fb36cb3d-a12a-4790-ec6b-556b43038215"
      },
      "execution_count": 2,
      "outputs": [
        {
          "output_type": "stream",
          "name": "stdout",
          "text": [
            "Mounted at /content/drive\n"
          ]
        }
      ]
    },
    {
      "cell_type": "markdown",
      "source": [
        "Setting path to the data"
      ],
      "metadata": {
        "id": "yaGWRDOCLYSv"
      }
    },
    {
      "cell_type": "code",
      "source": [
        "PATH = \"/content/drive/MyDrive/Research Methods/Assignment3/Data\""
      ],
      "metadata": {
        "id": "E_bY9Xd8LJVp"
      },
      "execution_count": 3,
      "outputs": []
    },
    {
      "cell_type": "code",
      "source": [],
      "metadata": {
        "id": "tYMEc66JLkdl"
      },
      "execution_count": null,
      "outputs": []
    }
  ]
}